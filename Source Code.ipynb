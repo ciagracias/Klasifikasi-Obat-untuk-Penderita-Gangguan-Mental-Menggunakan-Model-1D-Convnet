{
 "cells": [
  {
   "cell_type": "markdown",
   "id": "10e0d846",
   "metadata": {},
   "source": [
    "# KLASIFIKASI OBAT UNTUK PENDERITA GANGGUAN MENTAL MENGGUNAKAN MODEL 1D-CONVNET"
   ]
  },
  {
   "cell_type": "markdown",
   "id": "928ea404",
   "metadata": {},
   "source": [
    "NAMA : GRACIA RIZKA PASFICA\n",
    "\n",
    "NIM :19104064\n",
    "\n",
    "KELAS : S1-SE-03A\n",
    "\n",
    "DATASET : https://docs.google.com/spreadsheets/d/1VMSM2jFxILFFD7caslWVoRICiwAIwXJ3/edit?usp=sharing&ouid=113750500476101068176&rtpof=true&sd=true"
   ]
  },
  {
   "cell_type": "markdown",
   "id": "f1913d01",
   "metadata": {},
   "source": [
    "### LIBRARY"
   ]
  },
  {
   "cell_type": "code",
   "execution_count": 1,
   "id": "dc6ec8d4",
   "metadata": {},
   "outputs": [],
   "source": [
    "from nltk.corpus import stopwords # menghapus kata yang tidak memiliki makna\n",
    "from sklearn.preprocessing import LabelEncoder # menyandikan variabel dalam bentuk numerik\n",
    "from sklearn.model_selection import train_test_split # membagi dataset menjadi data latih dan data uji\n",
    "from sklearn import metrics # mengevaluasi kinerja model machine learning\n",
    "from sklearn.naive_bayes import MultinomialNB # mengklasifikasikan data menggunakan Multinomial Naive Bayes\n",
    "from keras import layers # menyediakan satu set lapisan jaringan saraf untuk membangun model\n",
    "from keras import models # mendifinisikan, melatih, dan mengompilasi model\n",
    "from keras.callbacks import EarlyStopping # menghentikan pelatihan model \n",
    "from keras.preprocessing.text import Tokenizer # mengubah daftar teks menjadi daftar bilangan bulat\n",
    "from tensorflow.keras.preprocessing.sequence import pad_sequences # melapisi urutan dengan panjang yang sama\n",
    "from collections import Counter # menghitung kemunculan item dalam daftar\n",
    "from sklearn.metrics import confusion_matrix # menghitung evaluasi model menggunakan confusion matrix\n",
    "from sklearn.metrics import accuracy_score, classification_report # menghitung akurasi menggunakan metrics\n",
    "from sklearn.preprocessing import MinMaxScaler # menskalakan data dalam rentang tertentu\n",
    "from sklearn.metrics import precision_score, recall_score, f1_score, average_precision_score # membuat confusion matrix\n",
    "from keras.models import Sequential # membuat model Sequential\n",
    "from keras.layers import Dense, Conv1D, Flatten, MaxPooling1D, Dropout, LeakyReLU # membuat layer pada pemodelan 1DConvnet\n",
    "\n",
    "import seaborn as sns # visualisasi data berbasis matplotlib\n",
    "import numpy as np # melakukan operasi aritmatika\n",
    "import pandas as pd # menyediakan fungsi untuk manipulasi data \n",
    "import matplotlib.pyplot as plt # visualisasi data dalam bentuk plot dan bagan\n",
    "import scikitplot as skplt # visualisasi hasil model\n",
    "import wordcloud # meng-generate hasil akhir berupa objek\n",
    "import re # memeriksa apakah string berisi pola pencarian yang ditentukan\n",
    "import string # mengolah string\n",
    "import os # menyediakan fungsi untuk berinteraksi dengan sistem operasi\n",
    "import nltk # membersihkan, memproses, membangun, dan melatih model teks"
   ]
  },
  {
   "cell_type": "markdown",
   "id": "e4d00eb0",
   "metadata": {},
   "source": [
    "### DATASET PREPARATION"
   ]
  },
  {
   "cell_type": "code",
   "execution_count": 2,
   "id": "972cd05c",
   "metadata": {},
   "outputs": [],
   "source": [
    "# IMPORT DATASET\n",
    "\n",
    "dataset = \"E:\\Kuliah\\Skripsi\\Lanjut Sidang\\Dataset Fiks\" # memanggil dataset"
   ]
  },
  {
   "cell_type": "code",
   "execution_count": 3,
   "id": "f2030a49",
   "metadata": {},
   "outputs": [],
   "source": [
    "# IDENTIFIKASI FOLDER\n",
    "\n",
    "ssri_dataset = dataset +\"/\"+ \"ssri\" # variabel untuk menyimpan folder ssri\n",
    "atipikal_dataset = dataset +\"/\"+ \"atipikal\" # variabel untuk menyimpan folder atipikal\n",
    "\n",
    "ssri_filenames = os.listdir(ssri_dataset) # membaca dan menyimpan seluruh file pada folder ssri\n",
    "atipikal_filenames = os.listdir(atipikal_dataset) # membaca dan menyimpan seluruh file pada folder atipikal"
   ]
  },
  {
   "cell_type": "markdown",
   "id": "abc37f85",
   "metadata": {},
   "source": [
    "Function load_text berguna untuk membuka file yang tersimpan di dalam path menggunakan function open(), kemudian membaca isi file menggunakan function read(), lalu menutup file tersebut menggunakan function close() dan mengembalikannya dalam bentuk string.\n",
    "\n",
    "path adalah istilah yang digunakan untuk menunjukkan alamat dari sebuah file."
   ]
  },
  {
   "cell_type": "code",
   "execution_count": 4,
   "id": "3fc8b8e8",
   "metadata": {},
   "outputs": [],
   "source": [
    "# MEMBACA FILE\n",
    "\n",
    "def load_text(path): # Function untuk memuat teks yang ada pada file\n",
    "    file = open(path,\"r\") # Membuka file\n",
    "    x_data = file.read() # Membaca file yang dibuka\n",
    "    file.close() # Menutup file yang telah dibuka\n",
    "    return x_data # Hasil keluaran dari function load_text\n",
    "\n",
    "def load_data(path): # Function untuk menginisiasi function load_text\n",
    "    return load_text(path) # Hasil keluaran dari function load_data"
   ]
  },
  {
   "cell_type": "markdown",
   "id": "cfbb4efc",
   "metadata": {},
   "source": [
    "Function get_data() berfungsi untuk memuat data dari kumpulan file dan mengembalikan data - data tersebut menjadi dua daftar terpisah yakni x dan y."
   ]
  },
  {
   "cell_type": "code",
   "execution_count": 5,
   "id": "415c6924",
   "metadata": {},
   "outputs": [],
   "source": [
    "# MEMBUAT DATA INDEPENDEN (x) DAN DEPENDEN (y)\n",
    "\n",
    "def get_data(folder_path, file_names, y_data): # Function untuk mendapatkan data \n",
    "    # Inisiasi variable dengan tipe data list\n",
    "    x = list() # Variable independen \n",
    "    y = list() # Variable dependen (label)\n",
    "    # Looping menambahkan file yang ada pada folder SSRI dan atipikal\n",
    "    for i in file_names:\n",
    "        full_path = folder_path + \"/\" + i # Variable full_path berisikan folder dengan indeks ke-i\n",
    "        x_data = load_data(path = full_path) # Variable readfile akan membaca dan memuat seluruh file pada folder\n",
    "        x.append(x_data) # Menambahkan file yang telah dibaca\n",
    "        y.append(y_data) # Menambahkan kategori berdasarkan variable data\n",
    "    return x, y # Hasil keluaran dari function get_data_target"
   ]
  },
  {
   "cell_type": "code",
   "execution_count": 6,
   "id": "0f45d24c",
   "metadata": {},
   "outputs": [],
   "source": [
    "# INISIASI DATA SSRI\n",
    "\n",
    "ssri_x, ssri_y = get_data(\n",
    "    folder_path = ssri_dataset, # menyimpan data folder dari variabel ssri_dataset\n",
    "    file_names = ssri_filenames, # menyimpan data file dari variabel ssri_filenames\n",
    "    y_data = \"ssri\" # memberi label ssri pada ssri_data dan ssri_target \n",
    ") "
   ]
  },
  {
   "cell_type": "code",
   "execution_count": 7,
   "id": "a8870b99",
   "metadata": {},
   "outputs": [],
   "source": [
    "# INISIASI DATA ATIPIKAL\n",
    "\n",
    "atipikal_x, atipikal_y = get_data(\n",
    "    folder_path = atipikal_dataset, # menyimpan data folder dari variabel ssri_dataset\n",
    "    file_names = atipikal_filenames, # menyimpan data file dari variabel ssri_filenames\n",
    "    y_data = \"atipikal\" # memberi label ssri pada ssri_data dan ssri_target \n",
    ")"
   ]
  },
  {
   "cell_type": "code",
   "execution_count": 8,
   "id": "84de69d5",
   "metadata": {},
   "outputs": [],
   "source": [
    "# MENGGABUNGKAN DATA SSRI DAN ATIPIKAL\n",
    "\n",
    "x = ssri_x + atipikal_x # variabel untuk menyimpan data fitur\n",
    "y = ssri_y + atipikal_y # variabel untuk menyimpan data label"
   ]
  },
  {
   "cell_type": "markdown",
   "id": "8dbca3d8",
   "metadata": {},
   "source": [
    "### EXPLORATORY DATA ANALYSIS"
   ]
  },
  {
   "cell_type": "code",
   "execution_count": 9,
   "id": "bedf490a",
   "metadata": {},
   "outputs": [
    {
     "name": "stdout",
     "output_type": "stream",
     "text": [
      "['atipikal', 'ssri']\n"
     ]
    }
   ],
   "source": [
    "print(os.listdir(dataset)) # mengembalikan daftar nama file dan direktori di direktori yang ditentukan oleh parameter"
   ]
  },
  {
   "cell_type": "code",
   "execution_count": 10,
   "id": "a1872e47",
   "metadata": {},
   "outputs": [
    {
     "name": "stdout",
     "output_type": "stream",
     "text": [
      "===== SEBELUM DITAMBAHKAN KE DALAM VARIABEL X DAN Y =====\n",
      "\n",
      "Tipe data SSRI     : <class 'str'>\n",
      "Tipe data atipikal : <class 'str'>\n",
      "\n",
      "\n",
      "\n",
      "===== SETELAH DITAMBAHKAN KE DALAM VARIABEL X DAN Y =====\n",
      "\n",
      "Tipe data variabel x : <class 'list'>\n",
      "Tipe data variabel y : <class 'list'>\n"
     ]
    }
   ],
   "source": [
    "# Mengetahui jenis tipe data\n",
    "\n",
    "print(\"=\"*5,\"SEBELUM DITAMBAHKAN KE DALAM VARIABEL X DAN Y\",\"=\"*5)\n",
    "print(\"\")\n",
    "print(\"Tipe data SSRI     :\",type(ssri_dataset)) # mengetahui jenis tipe data pada kelompok obat SSRI\n",
    "print(\"Tipe data atipikal :\",type(atipikal_dataset)) # mengetahui jenis tipe data pada kelompok obat atipikal\n",
    "print(\"\\n\\n\")\n",
    "print(\"=\"*5,\"SETELAH DITAMBAHKAN KE DALAM VARIABEL X DAN Y\",\"=\"*5)\n",
    "print(\"\")\n",
    "print(\"Tipe data variabel x :\",type(x)) # mengetahui jenis tipe data pada variabel x\n",
    "print(\"Tipe data variabel y :\",type(y)) # mengetahui jenis tipe data pada variabel y"
   ]
  },
  {
   "cell_type": "code",
   "execution_count": 11,
   "id": "b7bf0b2e",
   "metadata": {},
   "outputs": [
    {
     "name": "stdout",
     "output_type": "stream",
     "text": [
      "(['Citalopram Hydrobromide 10 mg bottle ( Mayor Depressive Disorder , Bipolar Disorder , Obsessive Compulsif Disorder , Depression , Generalized Anxiety Disorder , Social Anxiety Disorder, Borderline Personality Disorder )\\n\\n\\n', 'citalopram hbr 10 mg tablet ( mayor depressive disorder , bipolar disorder , obsessive compulsif disorder , depression , generalized anxiety disorder , social anxiety disorder , borderline personality disorder )\\n', 'stccc - fluoxetine 20 mg capsule ( mayor depressive disorder , panic disorder , obsessive compulsive disorder , depression )', 'selfemra 10 mg capsule ( mayor depressive disorder , panic disorder , obsessive compulsive disorder , depression )', 'selfemra 20 mg capsule ( mayor depressive disorder , panic disorder , obsessive compulsive disorder , depression )', 'sandoz fluoxetine 10 mg capsule ( mayor depressive disorder , panic disorder , obsessive compulsive disorder , depression )', 'sandoz fluoxetine 20 mg capsule ( mayor depressive disorder , panic disorder , obsessive compulsive disorder , depression )', 'riva fluoxetine 20 mg capsule ( mayor depressive disorder , panic disorder , obsessive compulsive disorder , depression )', 'riva fluoxetine 10 mg capsule ( mayor depressive disorder , panic disorder , obsessive compulsive disorder , depression )', 'ratio - fluoxetine 10 mg capsule ( mayor depressive disorder , panic disorder , obsessive compulsive disorder , depression )', 'ratio - fluoxetine 20 mg capsule ( mayor depressive disorder , panic disorder , obsessive compulsive disorder , depression )', 'ran - fluoxetine 10 mg capsule ( mayor depressive disorder , panic disorder , obsessive compulsive disorder , depression )', 'celexa 20 mg ( mayor depressive disorder , bipolar disorder , obsessive compulsif disorder , depression , generalized anxiety disorder , social anxiety disorder , borderline personality disorder )', 'ran - fluoxetine 20 mg capsule ( mayor depressive disorder , panic disorder , obsessive compulsive disorder , depression )', 'pro - fluoxetine 20 twenty mg capsule ( mayor depressive disorder , panic disorder , obsessive compulsive disorder , depression )', 'pro - fluoxetine 10 mg capsule ( mayor depressive disorder , panic disorder , obsessive compulsive disorder , depression )', 'priva - fluoxetine 20 mg capsule ( mayor depressive disorder , panic disorder , obsessive compulsive disorder , depression )', 'priva - fluoxetine 10 mg capsule ( mayor depressive disorder , panic disorder , obsessive compulsive disorder , depression )', 'pms - fluoxetine 20 mg capsule ( mayor depressive disorder , panic disorder , obsessive compulsive disorder , depression )', 'pms - fluoxetine 10 mg capsule ( mayor depressive disorder , panic disorder , obsessive compulsive disorder , depression )', 'pms - fluoxetine 60 mg capsule ( mayor depressive disorder , panic disorder , obsessive compulsive disorder , depression )', 'pms - fluoxetine 40 mg capsule ( mayor depressive disorder , panic disorder , obsessive compulsive disorder , depression )', 'phl - fluoxetine 20 mg capsule ( mayor depressive disorder , panic disorder , obsessive compulsive disorder , depression )', 'celexa 40 mg tablet ( mayor depressive disorder , bipolar disorder , obsessive compulsif disorder , depression , generalized anxiety disorder , social anxiety disorder , borderline personality disorder )', 'phl - fluoxetine 10 mg capsule ( mayor depressive disorder , panic disorder , obsessive compulsive disorder , depression )', 'penta fluoxetine 10 mg capsule ( mayor depressive disorder , panic disorder , obsessive compulsive disorder , depression )', 'penta - fluoxetine 20 mg capsule ( mayor depressive disorder , panic disorder , obsessive compulsive disorder , depression )', 'odan - fluoxetine 20 mg capsule ( mayor depressive disorder , panic disorder , obsessive compulsive disorder , depression )', 'mylan - fluoxetine 20 mg capsule ( mayor depressive disorder , panic disorder , obsessive compulsive disorder , depression )', 'mylan - fluoxetine 10 mg capsule ( mayor depressive disorder , panic disorder , obsessive compulsive disorder , depression )', 'mint - fluoxetine 20 mg capsule ( mayor depressive disorder , panic disorder , obsessive compulsive disorder , depression )', 'mint - fluoxetine 10 mg capsule ( mayor depressive disorder , panic disorder , obsessive compulsive disorder , depression )', 'mar - fluoxetine 20 mg capsule ( mayor depressive disorder , panic disorder , obsessive compulsive disorder , depression )', 'mar - fluoxetine 10 mg capsule ( mayor depressive disorder , panic disorder , obsessive compulsive disorder , depression )', 'ctp 30 mg tablet ( mayor depressive disorder , bipolar disorder , obsessive compulsif disorder , depression , generalized anxiety disorder , social anxiety disorder , borderline personality disorder )', 'jamp - fluoxetine 10 mg capsule ( mayor depressive disorder , panic disorder , obsessive compulsive disorder , depression )', 'jamp - fluoxetine 10 mg capsule ( mayor depressive disorder , panic disorder , obsessive compulsive disorder , depression )', 'apo - fluvoxamine 50 mg tablet ( mayor depressive disorder , obsessive compulsive disorder )', 'apo - fluvoxamine 100 mg tablet ( mayor depressive disorder , obsessive compulsive disorder )', 'ava - fluvoxamine 100 mg tablet ( mayor depressive disorder , obsessive compulsive disorder )', 'ava - fluvoxamine 50 mg tablet ( mayor depressive disorder , obsessive compulsive disorder )', 'dom - fluvoxamine 100 mg tablet ( mayor depressive disorder , obsessive compulsive disorder )', 'dom - fluvoxamine 50 mg tablet ( mayor depressive disorder , obsessive compulsive disorder )', 'fluvoxamine - maleate 50 mg tablet ( mayor depressive disorder , obsessive compulsive disorder )', 'fluvoxamine - maleate 150 mg tablet ( mayor depressive disorder , obsessive compulsive disorder )', 'apo - citalopram 20 mg tablet ( mayor depressive disorder , bipolar disorder , obsessive compulsif disorder , depression , generalized anxiety disorder , social anxiety disorder , borderline personality disorder )', 'fluvoxamine - maleate 100 mg tablet ( mayor depressive disorder , obsessive compulsive disorder )', 'fluvoxamine - maleate 25 mg tablet ( mayor depressive disorder , obsessive compulsive disorder )', 'gen - fluvoxamine 50 mg tablet ( mayor depressive disorder , obsessive compulsive disorder )', 'gen - fluvoxamine 100 mg tablet ( mayor depressive disorder , obsessive compulsive disorder )', 'nono - fluvoxamine 50 mg tablet ( mayor depressive disorder , obsessive compulsive disorder )', 'nono - fluvoxamine 100 mg tablet ( mayor depressive disorder , obsessive compulsive disorder )', 'phl - fluvoxamine 50 mg tablet ( mayor depressive disorder , obsessive compulsive disorder )', 'phl - fluvoxamine 100 mg tablet ( mayor depressive disorder , obsessive compulsive disorder )', 'ratio - fluvoxamine  100 mg tablet ( mayor depressive disorder , obsessive compulsive disorder )', 'ratio - fluvoxamine 50 mg tablet ( mayor depressive disorder , obsessive compulsive disorder )', 'apo citalopram 40 mg tablet ( mayor depressive disorder , bipolar disorder , obsessive compulsif disorder , depression , generalized anxiety disorder , social anxiety disorder , borderline personality disorder )', 'riva - fluvoxamine 50 mg tablet ( mayor depressive disorder , obsessive compulsive disorder )', 'riva - fluvoxamine 100 mg tablet ( mayor depressive disorder , obsessive compulsive disorder )', 'riva - fluvox 100 mg tablet ( mayor depressive disorder , obsessive compulsive disorder )', 'riva - fluvox 50 mg tablet ( mayor depressive disorder , obsessive compulsive disorder )', 'sadoz - fluvoxamine 50 mg tablet ( mayor depressive disorder , obsessive compulsive disorder )', 'sandoz fluvoxamine 100 mg tablet ( mayor depressive disorder , obsessive compulsive disorder )', 'act paroxetine 10 mg tablet ( mayor depressive disorder , panic disorder , obsessive compulsive disorder , generalized anxiety disorder , social anxiety disorder )', 'act paroxetin 30 mg tablet ( mayor depressive disorder , panic disorder , obsessive compulsive disorder , generalized anxiety disorder , social anxiety disorder )', 'act paroxetin 20 mg tablet ( mayor depressive disorder , panic disorder , obsessive compulsive disorder , generalized anxiety disorder , social anxiety disorder )', 'brisdelle 8 mg capsule ( mayor depressive disorder , panic disorder , obsessive compulsive disorder , generalized anxiety disorder , social anxiety disorder )', 'citalopram 20 mg tablet ( mayor depressive disorder , bipolar disorder , obsessive compulsif disorder , depression , generalized anxiety disorder , social anxiety disorder , borderline personality disorder )', 'm - paroxetine 10 mg tablet ( mayor depressive disorder , panic disorder , obsessive compulsive disorder , generalized anxiety disorder , social anxiety disorder )', 'm - paroxetine 13 mg tablet ( mayor depressive disorder , panic disorder , obsessive compulsive disorder , generalized anxiety disorder , social anxiety disorder )', 'm - paroxetine 20 mg tablet ( mayor depressive disorder , panic disorder , obsessive compulsive disorder , generalized anxiety disorder , social anxiety disorder )', 'nra - paroxetine 20 mg tablet ( mayor depressive disorder , panic disorder , obsessive compulsive disorder , generalized anxiety disorder , social anxiety disorder )', 'nra - paroxetine 10 mg tablet ( mayor depressive disorder , panic disorder , obsessive compulsive disorder , generalized anxiety disorder , social anxiety disorder )', 'nra - paroxetine 30 mg tablet ( mayor depressive disorder , panic disorder , obsessive compulsive disorder , generalized anxiety disorder , social anxiety disorder )', 'paroxetin 10 mg tablet ( mayor depressive disorder , panic disorder , obsessive compulsive disorder , generalized anxiety disorder , social anxiety disorder )', 'paroxetine 20 mg tablet ( mayor depressive disorder , panic disorder , obsessive compulsive disorder , generalized anxiety disorder , social anxiety disorder )', 'paroxetine 13 mg tablet ( mayor depressive disorder , panic disorder , obsessive compulsive disorder , generalized anxiety disorder , social anxiety disorder )', 'paroxetine 8 mg capsule ( mayor depressive disorder , panic disorder , obsessive compulsive disorder , generalized anxiety disorder , social anxiety disorder )', 'citalopram 40 mg tablet ( mayor depressive disorder , bipolar disorder , obsessive compulsif disorder , depression , generalized anxiety disorder , social anxiety disorder , borderline personality disorder )', 'paroxetine hydrochloride 38 mg tablet ( mayor depressive disorder , panic disorder , obsessive compulsive disorder , generalized anxiety disorder , social anxiety disorder )', 'paroxetine hydrochloride 25 mg tablet ( mayor depressive disorder , panic disorder , obsessive compulsive disorder , generalized anxiety disorder , social anxiety disorder )', 'paroxetine hydrochloride 13 mg tablet ( mayor depressive disorder , panic disorder , obsessive compulsive disorder , generalized anxiety disorder , social anxiety disorder )', 'paxil 40 mg tablet ( mayor depressive disorder , panic disorder , obsessive compulsive disorder , generalized anxiety disorder , social anxiety disorder )', 'paxil 20 mg tablet ( mayor depressive disorder , panic disorder , obsessive compulsive disorder , generalized anxiety disorder , social anxiety disorder )', 'paxil 30 mg tablet ( mayor depressive disorder , panic disorder , obsessive compulsive disorder , generalized anxiety disorder , social anxiety disorder )', 'paxil 10 mg tablet ( mayor depressive disorder , panic disorder , obsessive compulsive disorder , generalized anxiety disorder , social anxiety disorder )', 'paxil cr 25 mg tablet ( mayor depressive disorder , panic disorder , obsessive compulsive disorder , generalized anxiety disorder , social anxiety disorder )', 'paxil cr 38 mg tablet ( mayor depressive disorder , panic disorder , obsessive compulsive disorder , generalized anxiety disorder , social anxiety disorder )', 'paxil cr 13 mg tablet ( mayor depressive disorder , panic disorder , obsessive compulsive disorder , generalized anxiety disorder , social anxiety disorder )', 'citalopram odan 20 mg tablet ( mayor depressive disorder , bipolar disorder , obsessive compulsif disorder , depression , generalized anxiety disorder , social anxiety disorder , borderline personality disorder )', 'pexeva 40 mg tablet ( mayor depressive disorder , panic disorder , obsessive compulsive disorder , generalized anxiety disorder , social anxiety disorder )', 'pexeva 10 mg tablet ( mayor depressive disorder , panic disorder , obsessive compulsive disorder , generalized anxiety disorder , social anxiety disorder )', 'pexeva 13 mg tablet ( mayor depressive disorder , panic disorder , obsessive compulsive disorder , generalized anxiety disorder , social anxiety disorder )', 'pexeva 20 mg tablet ( mayor depressive disorder , panic disorder , obsessive compulsive disorder , generalized anxiety disorder , social anxiety disorder )', 'q - paroxetine 30 mg tablet ( mayor depressive disorder , panic disorder , obsessive compulsive disorder , generalized anxiety disorder , social anxiety disorder )', 'q - paroxetin 10 mg tablet ( mayor depressive disorder , panic disorder , obsessive compulsive disorder , generalized anxiety disorder , social anxiety disorder )', 'q - paroxetine 20 mg tablet ( mayor depressive disorder , panic disorder , obsessive compulsive disorder , generalized anxiety disorder , social anxiety disorder )', 'act sertraline 50 mg capsule ( mayor depressive disorder , panic disorder , obsessive compulsive disorder , generalized anxiety disorder , social anxiety disorder )', 'act sertraline 25 mg capsule ( mayor depressive disorder , panic disorder , obsessive compulsive disorder , generalized anxiety disorder , social anxiety disorder )', 'act sertraline 100 mg capsule ( mayor depressive disorder , panic disorder , obsessive compulsive disorder , generalized anxiety disorder , social anxiety disorder )', 'citalopram odan 40 mg tablet ( mayor depressive disorder , bipolar disorder , obsessive compulsif disorder , depression , generalized anxiety disorder , social anxiety disorder , borderline personality disorder )', 'm - sertraline 25 mg capsule ( mayor depressive disorder , panic disorder , obsessive compulsive disorder , generalized anxiety disorder , social anxiety disorder )', 'm - sertraline 100 mg capsule ( mayor depressive disorder , panic disorder , obsessive compulsive disorder , generalized anxiety disorder , social anxiety disorder )', 'm - sertraline 50 mg capsule ( mayor depressive disorder , panic disorder , obsessive compulsive disorder , generalized anxiety disorder , social anxiety disorder )', 'nra - sertraline 25 mg capsule ( mayor depressive disorder , panic disorder , obsessive compulsive disorder , generalized anxiety disorder , social anxiety disorder )', 'nra - sertraline 50 mg capsule ( mayor depressive disorder , panic disorder , obsessive compulsive disorder , generalized anxiety disorder , social anxiety disorder )', 'nra - sertraline 100 mg capsule ( mayor depressive disorder , panic disorder , obsessive compulsive disorder , generalized anxiety disorder , social anxiety disorder )', 'q - sertraline 100 mg capsule ( mayor depressive disorder , panic disorder , obsessive compulsive disorder , generalized anxiety disorder , social anxiety disorder )', 'q - sertraline 50 mg capsule ( mayor depressive disorder , panic disorder , obsessive compulsive disorder , generalized anxiety disorder , social anxiety disorder )', 'q - sertraline 25 mg capsule ( mayor depressive disorder , panic disorder , obsessive compulsive disorder , generalized anxiety disorder , social anxiety disorder )', 'sertraline 50 mg capsule ( mayor depressive disorder , panic disorder , obsessive compulsive disorder , generalized anxiety disorder , social anxiety disorder )', 'Celexa 40 mg Tablet ( Mayor Depressive Disorder , Bipolar Disorder , Obsessive Compulsif Disorder , Depression , Generalized Anxiety Disorder , Social Anxiety Disorder , Borderline Personality Disorder )\\n\\n', 'co citalopram 20 mg tablet ( mayor depressive disorder , bipolar disorder , obsessive compulsif disorder , depression , generalized anxiety disorder , social anxiety disorder , borderline personality disorder )', 'sertraline 50 mg capsule ( mayor depressive disorder , panic disorder , obsessive compulsive disorder , generalized anxiety disorder , social anxiety disorder )', 'sertraline 100 mg capsule ( mayor depressive disorder , panic disorder , obsessive compulsive disorder , generalized anxiety disorder , social anxiety disorder )', 'sertraline hcl 150 mg capsule ( mayor depressive disorder , panic disorder , obsessive compulsive disorder , generalized anxiety disorder , social anxiety disorder )', 'sertraline hcl 200 mg capsule ( mayor depressive disorder , panic disorder , obsessive compulsive disorder , generalized anxiety disorder , social anxiety disorder )', 'sertraline hcl 50 mg capsule ( mayor depressive disorder , panic disorder , obsessive compulsive disorder , generalized anxiety disorder , social anxiety disorder )', 'zoloft 100 mg capsule ( mayor depressive disorder , panic disorder , obsessive compulsive disorder , generalized anxiety disorder , social anxiety disorder )', 'zoloft 100 mg tablet ( mayor depressive disorder , panic disorder , obsessive compulsive disorder , generalized anxiety disorder , social anxiety disorder )', 'zoloft 50 mg tablet ( mayor depressive disorder , panic disorder , obsessive compulsive disorder , generalized anxiety disorder , social anxiety disorder )', 'zoloft 25 mg tablet ( mayor depressive disorder , panic disorder , obsessive compulsive disorder , generalized anxiety disorder , social anxiety disorder )', 'act venlafaxine xr 150 mg capsule ( mayor depressive disorder , panic disorder , depression , generalized anxiety disorder , social anxiety disorder , borderline personality disorder ) ', 'co citalopram 40 mg tablet ( mayor depressive disorder , bipolar disorder , obsessive compulsif disorder , depression , generalized anxiety disorder , social anxiety disorder , borderline personality disorder )', 'act venlafaxine xr 75 mg capsule ( mayor depressive disorder , panic disorder , depression , generalized anxiety disorder , social anxiety disorder , borderline personality disorder ) ', 'act venlafaxine xr 38 mg tablet ( mayor depressive disorder , panic disorder , depression , generalized anxiety disorder , social anxiety disorder , borderline personality disorder ) ', 'effexor 100 mg tablet ( mayor depressive disorder , panic disorder , depression , generalized anxiety disorder , social anxiety disorder , borderline personality disorder ) ', 'effexor 75 mg tablet ( mayor depressive disorder , panic disorder , depression , generalized anxiety disorder , social anxiety disorder , borderline personality disorder ) ', 'effexor 75 mg tablet( mayor depressive disorder , panic disorder , depression , generalized anxiety disorder , social anxiety disorder , borderline personality disorder ) ', 'effexor 50 mg tablet ( mayor depressive disorder , panic disorder , depression , generalized anxiety disorder , social anxiety disorder , borderline personality disorder ) ', 'effexor 25 mg tablet ( mayor depressive disorder , panic disorder , depression , generalized anxiety disorder , social anxiety disorder , borderline personality disorder ) ', 'effexor xr 75 mg capsule ( mayor depressive disorder , panic disorder , depression , generalized anxiety disorder , social anxiety disorder , borderline personality disorder ) ', 'effexor xr 100 mg capsule ( mayor depressive disorder , panic disorder , depression , generalized anxiety disorder , social anxiety disorder , borderline personality disorder ) ', 'effexor xr 38 mg capsule ( mayor depressive disorder , panic disorder , depression , generalized anxiety disorder , social anxiety disorder , borderline personality disorder ) ', 'jamp citalopram 20 mg tablet ( mayor depressive disorder , bipolar disorder , obsessive compulsif disorder , depression , generalized anxiety disorder , social anxiety disorder , borderline personality disorder )', 'm - venlafaxine xr 38 mg capsule ( mayor depressive disorder , panic disorder , depression , generalized anxiety disorder , social anxiety disorder , borderline personality disorder ) ', 'm - venlafaxine xr 150 mg capsule ( mayor depressive disorder , panic disorder , depression , generalized anxiety disorder , social anxiety disorder , borderline personality disorder ) ', 'm - venlafaxine 75 mg capsule ( mayor depressive disorder , panic disorder , depression , generalized anxiety disorder , social anxiety disorder , borderline personality disorder ) ', 'pmsc - venlafaxine xr 38 mg capsule ( mayor depressive disorder , panic disorder , depression , generalized anxiety disorder , social anxiety disorder , borderline personality disorder ) ', 'pmsc - venlafaxine xr 75 mg capsule ( mayor depressive disorder , panic disorder , depression , generalized anxiety disorder , social anxiety disorder , borderline personality disorder ) ', 'venlafaxine 150 mg tablet ( mayor depressive disorder , panic disorder , depression , generalized anxiety disorder , social anxiety disorder )', 'venlafaxine 38 mg tablet ( mayor depressive disorder , panic disorder , depression , generalized anxiety disorder , social anxiety disorder )', 'venlafaxine 225 mg tablet ( mayor depressive disorder , panic disorder , depression , generalized anxiety disorder , social anxiety disorder )', 'venlafaxine hydrochloride 225 mg tablet ( mayor depressive disorder , panic disorder , depression , generalized anxiety disorder , social anxiety disorder )', 'venlafaxine hydrochloride 38 mg tablet ( mayor depressive disorder , panic disorder , depression , generalized anxiety disorder , social anxiety disorder )', 'jamp citalopram 40 mg tablet ( mayor depressive disorder , bipolar disorder , obsessive compulsif disorder , depression , generalized anxiety disorder , social anxiety disorder , borderline personality disorder )', 'venlafaxine hydrochloride 150 mg tablet ( mayor depressive disorder , panic disorder , depression , generalized anxiety disorder , social anxiety disorder )', 'venlafaxine xr 150 mg capsule ( mayor depressive disorder , panic disorder , depression , generalized anxiety disorder , social anxiety disorder )', 'venlafaxine xr 75 mg capsule ( mayor depressive disorder , panic disorder , depression , generalized anxiety disorder , social anxiety disorder )', 'fetzima 80 mg capsule ( mayor depression disorder )', 'fetzima 40 mg capsule ( mayor depressive disorder )', 'fetzima 120 mg capsule ( mayor depressive disorder )', 'fetzima 20 mg capsule ( mayor depressive disorder )', 'Sandoz Sertraline capsule 50 mg ( Mayor Depressive Disorder , Panic Disorder , Obsessive Compulsive Disorder , General Anxiety Disorder , Social Anxiety Disorder )', 'Sandoz Sertraline capsule 100 mg ( Mayor Depressive Disorder , Panic Disorder , Obsessive Compulsive Disorder , Social Anxiety Disorder , General Anxiety Disorder )', 'Priva Sertraline capsule 25 mg ( Mayor Depressive Disorder , Panic Disorder , Obsessive Compulsive Disorder , Social Anxiety Disorder , General Anxiety Disorder )', 'mint citalopram 20 mg tablet ( mayor depressive disorder , bipolar disorder , obsessive compulsif disorder , depression , generalized anxiety disorder , social anxiety disorder , borderline personality disorder )', 'Priva Sertraline capsule 50 mg ( Mayor Depressive Disorder , Panic Disorder , Obsessive Compulsive Disorder , Social Anxiety Disorder , General Anxiety Disorder )', 'Priva Sertraline capsule 100 mg ( Mayor Depressive Disorder , Panic Disorder , Obsessive Compulsive Disorder , Social Anxiety Disorder , General Anxiety Disorder )', 'Ran - Sertraline capsule 25 mg ( Mayor Depressive Disorder , Panic Disorder , Obsessive Compulsive Disorder , Social Anxiety Disorder , General Anxiety Disorder )', 'Ran - Sertraline capsule 50 mg ( Mayor Depressive Disorder , Panic Disorder , Obsessive Compulsive Disorder , Social Anxiety Disorder , General Anxiety Disorder )', 'Ran - Sertraline capsule 100 mg ( Mayor Depressive Disorder , Panic Disorder , Obsessive Compulsive Disorder , Social Anxiety Disorder , General Anxiety Disorder )', 'Ratio - Sertraline capsule 25 mg ( Mayor Depressive Disorder , Panic Disorder , Obsessive Compulsive Disorder , Social Anxiety Disorder , General Anxiety Disorder )', 'Ratio - Sertraline capsule 50 mg ( Mayor Depressive Disorder , Panic Disorder , Obsessive Compulsive Disorder , Social Anxiety Disorder , General Anxiety Disorder )', 'Ratio - Sertraline capsule 100 mg ( Mayor Depressive Disorder , Panic Disorder , Obsessive Compulsive Disorder , Social Anxiety Disorder , General Anxiety Disorder )', 'Riva - Sertraline capsule 25 mg ( Mayor Depressive Disorder , Panic Disorder , Obsessive Compulsive Disorder , Social Anxiety Disorder , General Anxiety Disorder )', 'Riva - Sertraline capsule 50 mg ( Mayor Depressive Disorder , Panic Disorder , Obsessive Compulsive Disorder , Social Anxiety Disorder , General Anxiety Disorder )', 'mint citalopram 40 mg tablet ( mayor depressive disorder , bipolar disorder , obsessive compulsif disorder , depression , generalized anxiety disorder , social anxiety disorder , borderline personality disorder )', 'Riva - Sertraline capsule 50 mg ( Mayor Depressive Disorder , Panic Disorder , Obsessive Compulsive Disorder , Social Anxiety Disorder , General Anxiety Disorder )', 'Riva - Sertraline capsule 100 mg ( Mayor Depressive Disorder , Panic Disorder , Obsessive Compulsive Disorder , Social Anxiety Disorder , General Anxiety Disorder )', 'Sertraline tablet 25 mg ( Mayor Depressive Disorder , Panic Disorder , Obsessive Compulsive Disorder , Social Anxiety Disorder , General Anxiety Disorder )', 'Sertraline Tablet 50 mg ( Mayor Depressive Disorder , Panic Disorder , Obsessive Compulsive Disorder , Social Anxiety Disorder , General Anxiety Disorder )', 'Sertraline Tablet 100 mg ( Mayor Depressive Disorder , Panic Disorder , Obsessive Compulsive Disorder , Social Anxiety Disorder , General Anxiety Disorder )', 'Priva Sertraline capsule 25 mg ( Mayor Depressive Disorder , Panic Disorder , Obsessive Compulsive Disorder , Social Anxiety Disorder , General Anxiety Disorder )', 'Priva Sertraline capsule 50 mg ( Mayor Depressive Disorder , Panic Disorder , Obsessive Compulsive Disorder , Social Anxiety Disorder , General Anxiety Disorder )', 'Priva Sertraline capsule 100 mg ( Mayor Depressive Disorder , Panic Disorder , Obsessive Compulsive Disorder , Social Anxiety Disorder , General Anxiety Disorder )', 'PMS - Sertraline capsule 25 mg ( Mayor Depressive Disorder , Panic Disorder , Obsessive Compulsive Disorder , Social Anxiety Disorder , General Anxiety Disorder )', 'PMS - Sertraline capsule 50 mg ( Mayor Depressive Disorder , Panic Disorder , Obsessive Compulsive Disorder , Social Anxiety Disorder , General Anxiety Disorder )', 'mylan citalopram 20 mg tablet ( mayor depressive disorder , bipolar disorder , obsessive compulsif disorder , depression , generalized anxiety disorder , social anxiety disorder , borderline personality disorder )', 'PMS - Sertraline capsule 100 mg ( Mayor Depressive Disorder , Panic Disorder , Obsessive Compulsive Disorder , Social Anxiety Disorder , General Anxiety Disorder )', 'PHL - Sertraline capsule 100 mg ( Mayor Depressive Disorder , Panic Disorder , Obsessive Compulsive Disorder , Social Anxiety Disorder , General Anxiety Disorder )', 'PHL - Sertraline capsule 50 mg ( Mayor Depressive Disorder , Panic Disorder , Obsessive Compulsive Disorder , Social Anxiety Disorder , General Anxiety Disorder )', 'PHL - Sertraline capsule 25 mg ( Mayor Depressive Disorder , Panic Disorder , Obsessive Compulsive Disorder , Social Anxiety Disorder , General Anxiety Disorder )', 'Nu - Sertraline capsule 25 mg ( Mayor Depressive Disorder , Panic Disorder , Obsessive Compulsive Disorder , Social Anxiety Disorder , General Anxiety Disorder )', 'Nu - Sertraline capsule 50 mg ( Mayor Depressive Disorder , Panic Disorder , Obsessive Compulsive Disorder , Social Anxiety Disorder , General Anxiety Disorder )', 'Nu - Sertraline capsule 100 mg ( Mayor Depressive Disorder , Panic Disorder , Obsessive Compulsive Disorder , Social Anxiety Disorder , General Anxiety Disorder )', 'Mylan - Sertraline capsule 25 mg ( Mayor Depressive Disorder , Panic Disorder , Obsessive Compulsive Disorder , Social Anxiety Disorder , General Anxiety Disorder )', 'Mylan - Sertraline capsule 50 mg ( Mayor Depressive Disorder , Panic Disorder , Obsessive Compulsive Disorder , Social Anxiety Disorder , General Anxiety Disorder )', 'Mylan - Sertraline capsule 100 mg ( Mayor Depressive Disorder , Panic Disorder , Obsessive Compulsive Disorder , Social Anxiety Disorder , General Anxiety Disorder )', 'mylan citalopram 40 mg tablet ( mayor depressive disorder , bipolar disorder , obsessive compulsif disorder , depression , generalized anxiety disorder , social anxiety disorder , borderline personality disorder )', 'Mint - Sertraline capsule 25 mg ( Mayor Depressive Disorder , Panic Disorder , Obsessive Compulsive Disorder , Social Anxiety Disorder , General Anxiety Disorder )', 'Mint - Sertraline capsule 50 mg ( Mayor Depressive Disorder , Panic Disorder , Obsessive Compulsive Disorder , Social Anxiety Disorder , General Anxiety Disorder )', 'Mint - Sertraline capsule 100 mg ( Mayor Depressive Disorder , Panic Disorder , Obsessive Compulsive Disorder , Social Anxiety Disorder , General Anxiety Disorder )', 'Jamp - Sertraline capsule 25 mg ( Mayor Depressive Disorder , Panic Disorder , Obsessive Compulsive Disorder , Social Anxiety Disorder , General Anxiety Disorder )', 'Jamp - Sertraline capsule 50 mg ( Mayor Depressive Disorder , Panic Disorder , Obsessive Compulsive Disorder , Social Anxiety Disorder , General Anxiety Disorder )', 'Jamp - Sertraline capsule 100 mg ( Mayor Depressive Disorder , Panic Disorder , Obsessive Compulsive Disorder , Social Anxiety Disorder , General Anxiety Disorder )', 'ng citalopram 20 mg tablet ( mayor depressive disorder , bipolar disorder , obsessive compulsif disorder , depression , generalized anxiety disorder , social anxiety disorder , borderline personality disorder )', 'ng citalopram 40 mg tablet ( mayor depressive disorder , bipolar disorder , obsessive compulsif disorder , depression , generalized anxiety disorder , social anxiety disorder , borderline personality disorder )', 'Celexa 20 mg Tablet ( Mayor Depressive Disorder , Bipolar Disorder , Obsessive Compulsif Disorder , Depression , Generalized Anxiety Disorder , Social Anxiety Disorder , Borderline Personality Disorder )\\n', 'novo citalopram 20 mg tablet ( mayor depressive disorder , bipolar disorder , obsessive compulsif disorder , depression , generalized anxiety disorder , social anxiety disorder , borderline personality disorder )', 'novo citalopram 40 mg tablet ( mayor depressive disorder , bipolar disorder , obsessive compulsif disorder , depression , generalized anxiety disorder , social anxiety disorder , borderline personality disorder )', 'phl citalopram 20 mg tablet ( mayor depressive disorder , bipolar disorder , obsessive compulsif disorder , depression , generalized anxiety disorder , social anxiety disorder , borderline personality disorder )', 'phl citalopram 40 mg tablet ( mayor depressive disorder , bipolar disorder , obsessive compulsif disorder , depression , generalized anxiety disorder , social anxiety disorder , borderline personality disorder )', 'pms citalopram 20 mg tablet ( mayor depressive disorder , bipolar disorder , obsessive compulsif disorder , depression , generalized anxiety disorder , social anxiety disorder , borderline personality disorder )', 'pms citalopram 40 mg tablet ( mayor depressive disorder , bipolar disorder , obsessive compulsif disorder , depression , generalized anxiety disorder , social anxiety disorder , borderline personality disorder )', 'ran citalo 20 mg tablet ( mayor depressive disorder , bipolar disorder , obsessive compulsif disorder , depression , generalized anxiety disorder , social anxiety disorder , borderline personality disorder )', 'ran citalo 40 mg tablet ( mayor depressive disorder , bipolar disorder , obsessive compulsif disorder , depression , generalized anxiety disorder , social anxiety disorder , borderline personality disorder )', 'ran citalopram 20 mg tablet ( mayor depressive disorder , bipolar disorder , obsessive compulsif disorder , depression , generalized anxiety disorder , social anxiety disorder , borderline personality disorder )', 'ran citalopram 40 mg tablet ( mayor depressive disorder , bipolar disorder , obsessive compulsif disorder , depression , generalized anxiety disorder , social anxiety disorder , borderline personality disorder )', 'Celexa 10 mg Tablet ( Mayor Depressive Disorder , Bipolar Disorder , Obsessive Compulsif Disorder , Depression , Generalized Anxiety Disorder , Social Anxiety Disorder , Borderline Personality Disorder )\\n', 'ratio citalopram 20 mg tablet ( mayor depressive disorder , bipolar disorder , obsessive compulsif disorder , depression , generalized anxiety disorder , social anxiety disorder , borderline personality disorder )', 'ratio citalopram 40 mg tablet ( mayor depressive disorder , bipolar disorder , obsessive compulsif disorder , depression , generalized anxiety disorder , social anxiety disorder , borderline personality disorder )', 'sandoz citalopram 20 mg tablet ( mayor depressive disorder , bipolar disorder , obsessive compulsif disorder , depression , generalized anxiety disorder , social anxiety disorder , borderline personality disorder )', 'sandoz citalopram 40 mg tablet ( mayor depressive disorder , bipolar disorder , obsessive compulsif disorder , depression , generalized anxiety disorder , social anxiety disorder , borderline personality disorder )', 'pms citalopram 10 mg tablet ( mayor depressive disorder , bipolar disorder , obsessive compulsif disorder , depression , generalized anxiety disorder , social anxiety disorder , borderline personality disorder )', 'act escitalopram 20 mg tablet ( mayor depressive disorder , obsessive compulsive disorder , generalized anxiety disorder , social anxiety disorder )', 'act escitalopram 10 mg tablet ( mayor depressive disorder , obsessive compulsif disorder , generalized anxiety disorder , social anxiety disorder )', 'act escitalopram 5 mg tablet ( mayor depressive disorder , obsessive compulsif disorder , generalized anxiety disorder , social anxiety disorder )', 'act escitalopram odt 10 mg tablet ( mayor depressive disorder , obsessive compulsif disorder , generalized anxiety disorder , social anxiety disorder )', 'act escitalopram odt 20 mg tablet ( mayor depressive disorder , obsessive compulsif disorder , generalized anxiety disorder , social anxiety disorder )', 'Citalopram Hydrobromide 40 mg Tablet ( Mayor Depressive Disorder , Bipolar Disorder , Obsessive Compulsif Disorder , Depression , Generalized Anxiety Disorder , Social Anxiety Disorder , Borderline Personality Disorder )\\n', 'cipralex 10 mg tablet ( mayor depressive disorder , obsessive compulsif disorder , generalized anxiety disorder , social anxiety disorder )', 'cipralex 15 ten mg tablet ( mayor depressive disorder , obsessive compulsif disorder , generalized anxiety disorder , social anxiety disorder )', 'cipralex 20 mg tablet ( mayor depressive disorder , obsessive compulsif disorder , generalized anxiety disorder , social anxiety disorder )', 'cipralex meltz 10 mg tablet ( mayor depressive disorder , obsessive compulsif disorder , generalized anxiety disorder , social anxiety disorder )', 'escitalopram 5 mg tablet ( mayor depressive disorder , obsessive compulsif disorder , generalized anxiety disorder , social anxiety disorder )', 'escitalopram 10 mg tablet ( mayor depressive disorder , obsessive compulsif disorder , generalized anxiety disorder , social anxiety disorder )', 'escitalopram 15 mg tablet ( mayor depressive disorder , obsessive compulsif disorder , generalized anxiety disorder , social anxiety disorder )', 'escitalopram 20 mg tablet ( mayor depressive disorder , obsessive compulsif disorder , generalized anxiety disorder , social anxiety disorder )', 'escitalopram oxalate 10 mg tablet ( mayor depressive disorder , obsessive compulsif disorder , generalized anxiety disorder , social anxiety disorder )', 'escitalopram oxalate 20 mg tablet ( mayor depressive disorder , obsessive compulsif disorder , generalized anxiety disorder , social anxiety disorder )', 'citalopram hydrobromide 20 mg tablet ( mayor depressive disorder , bipolar disorder , obsessive compulsif disorder , depression , generalized anxiety disorder , social anxiety disorder , borderline personality disorder )\\n', 'lexapro 10 mg tablet ( mayor depressive disorder , obsessive compulsif disorder , generalized anxiety disorder , social anxiety disorder )', 'lexapro 20 mg tablet ( mayor depressive disorder , obsessive compulsif disorder , generalized anxiety disorder , social anxiety disorder )', 'lexapro 10 mg tablet ( mayor depressive disorder , obsessive compulsif disorder , generalized anxiety disorder , social anxiety disorder )', 'lexapro 20 mg tablet ( mayor depressive disorder , obsessive compulsif disorder , generalized anxiety disorder , social anxiety disorder )', 'm - escitalopram 20 mg tablet ( mayor depressive disorder , obsessive compulsif disorder , generalized anxiety disorder , social anxiety disorder )', 'm - escitalopram 10 mg tablet ( mayor depressive disorder , obsessive compulsif disorder , generalized anxiety disorder , social anxiety disorder )', 'nra - escitalopram 20 mg tablet ( mayor depressive disorder , obsessive compulsif disorder , generalized anxiety disorder , social anxiety disorder )', 'nra - escitalopram 10 mg tablet ( mayor depressive disorder , obsessive compulsif disorder , generalized anxiety disorder , social anxiety disorder )', 'pmsc - escitalopram 15 mg tablet ( mayor depressive disorder , obsessive compulsif disorder , generalized anxiety disorder , social anxiety disorder )', 'pmsc escitalopram 20 mg tablet ( mayor depressive disorder , obsessive compulsif disorder , generalized anxiety disorder , social anxiety disorder )', 'citalopram hydrobromide 10 mg tablet ( mayor depressive disorder , bipolar disorder , obsessive compulsif disorder , depression , generalized anxiety disorder , social anxiety disorder , borderline personality disorder )\\n', 'pmsc - escitalopram 5 mg tablet ( mayor depressive disorder , obsessive compulsif disorder , generalized anxiety disorder , social anxiety disorder )', 'pmsc - escitalopram 10 mg tablet ( mayor depressive disorder , obsessive compulsif disorder , generalized anxiety disorder , social anxiety disorder )', 'accel - fluoxetine 20 mg capsule ( mayor depressive disorder , panic disorder , obsessive compulsive disorder , depression )', 'accel - fluoxetine 10 mg capsule ( mayor depressive disorder , panic disorder , obsessive compulsive disorder , depression )', 'ach - fluoxetine 10 mg capsule ( mayor depressive disorder , panic disorder , obsessive compulsive disorder , depression )', 'ach - floxetine 20 mg capsule ( mayor depressive disorder , panic disorder , obsessive compulsive disorder , depression )', 'ag - fluoxetine 10 mg capsule ( mayor depressive disorder , panic disorder , obsessive compulsive disorder , depression )', 'ag - fluoxetine 20 mg capsule ( mayor depressive disorder , panic disorder , obsessive compulsive disorder , depression )', 'apo - fluoxetine 20 mg capsule ( mayor depressive disorder , panic disorder , obsessive compulsive disorder , depression )', 'apo - fluoxetine 10 mg capsule ( mayor depressive disorder , panic disorder , obsessive compulsive disorder , depression )', 'citalopram hbr 40 mg tablet ( mayor depressive disorder , bipolar disorder , obsessive compulsif disorder , depression , generalized anxiety disorder , social anxiety disorder , borderline personality disorder )\\n', 'auro - fluoxetine 10 mg capsule ( mayor depressive disorder , panic disorder , obsessive compulsive disorder , depression )', 'auro - fluoxetine 10 mg capsule ( mayor depressive disorder , panic disorder , obsessive compulsive disorder , depression )', 'ava - fluoxetine 20 mg capsule ( mayor depressive disorder , panic disorder , obsessive compulsive disorder , depression )', 'bio - fluoxetine 20 mg capsule ( mayor depressive disorder , panic disorder , obsessive compulsive disorder , depression )', 'bio - fluoxetine 20 mg capsule ( mayor depressive disorder , panic disorder , obsessive compulsive disorder , depression )', 'dom - fluoxetine 20 mg capsule ( mayor depressive disorder , panic disorder , obsessive compulsive disorder , depression )', 'dom - fluoxetine 10 mg capsule ( mayor depressive disorder , panic disorder , obsessive compulsive disorder , depression )', 'fluoxetine 10 mg capsule ( mayor depressive disorder , panic disorder , obsessive compulsive disorder , depression )', 'fluoxetine 20 mg capsule ( mayor depressive disorder , panic disorder , obsessive compulsive disorder , depression )', 'fluoxetine 40 mg capsule ( mayor depressive disorder , panic disorder , obsessive compulsive disorder , depression )', 'citalopram hbr 20 mg tablet ( mayor depressive disorder , bipolar disorder , obsessive compulsif disorder , depression , generalized anxiety disorder , social anxiety disorder , borderline personality disorder )\\n', 'fluoxetine 10 mg tablet ( mayor depressive disorder , panic disorder , obsessive compulsive disorder , depression )', 'fluoxetine 20 mg tablet ( mayor depressive disorder , panic disorder , obsessive compulsive disorder , depression )', 'zym - fluoxetine 10 mg capsule ( mayor depressive disorder , panic disorder , obsessive compulsive disorder , depression )', 'zym - fluoxetine 20 mg capsule ( mayor depressive disorder , panic disorder , obsessive compulsive disorder , depression )', 'van - fluoxetine 10 mg capsule ( mayor depressive disorder , panic disorder , obsessive compulsive disorder , depression )', 'van - fluoxetine 20 mg capsule ( mayor depressive disorder , panic disorder , obsessive compulsive disorder , depression )', 'teva - fluoxetine 20 mg capsule ( mayor depressive disorder , panic disorder , obsessive compulsive disorder , depression )', 'teva - fluoxetine 10 mg capsule ( mayor depressive disorder , panic disorder , obsessive compulsive disorder , depression )', 'teva - fluoxetine 20 mg capsule ( mayor depressive disorder , panic disorder , obsessive compulsive disorder , depression )', 'stccc - fluoxetine 10 mg capsule ( mayor depressive disorder , panic disorder , obsessive compulsive disorder , depression )'], ['ssri', 'ssri', 'ssri', 'ssri', 'ssri', 'ssri', 'ssri', 'ssri', 'ssri', 'ssri', 'ssri', 'ssri', 'ssri', 'ssri', 'ssri', 'ssri', 'ssri', 'ssri', 'ssri', 'ssri', 'ssri', 'ssri', 'ssri', 'ssri', 'ssri', 'ssri', 'ssri', 'ssri', 'ssri', 'ssri', 'ssri', 'ssri', 'ssri', 'ssri', 'ssri', 'ssri', 'ssri', 'ssri', 'ssri', 'ssri', 'ssri', 'ssri', 'ssri', 'ssri', 'ssri', 'ssri', 'ssri', 'ssri', 'ssri', 'ssri', 'ssri', 'ssri', 'ssri', 'ssri', 'ssri', 'ssri', 'ssri', 'ssri', 'ssri', 'ssri', 'ssri', 'ssri', 'ssri', 'ssri', 'ssri', 'ssri', 'ssri', 'ssri', 'ssri', 'ssri', 'ssri', 'ssri', 'ssri', 'ssri', 'ssri', 'ssri', 'ssri', 'ssri', 'ssri', 'ssri', 'ssri', 'ssri', 'ssri', 'ssri', 'ssri', 'ssri', 'ssri', 'ssri', 'ssri', 'ssri', 'ssri', 'ssri', 'ssri', 'ssri', 'ssri', 'ssri', 'ssri', 'ssri', 'ssri', 'ssri', 'ssri', 'ssri', 'ssri', 'ssri', 'ssri', 'ssri', 'ssri', 'ssri', 'ssri', 'ssri', 'ssri', 'ssri', 'ssri', 'ssri', 'ssri', 'ssri', 'ssri', 'ssri', 'ssri', 'ssri', 'ssri', 'ssri', 'ssri', 'ssri', 'ssri', 'ssri', 'ssri', 'ssri', 'ssri', 'ssri', 'ssri', 'ssri', 'ssri', 'ssri', 'ssri', 'ssri', 'ssri', 'ssri', 'ssri', 'ssri', 'ssri', 'ssri', 'ssri', 'ssri', 'ssri', 'ssri', 'ssri', 'ssri', 'ssri', 'ssri', 'ssri', 'ssri', 'ssri', 'ssri', 'ssri', 'ssri', 'ssri', 'ssri', 'ssri', 'ssri', 'ssri', 'ssri', 'ssri', 'ssri', 'ssri', 'ssri', 'ssri', 'ssri', 'ssri', 'ssri', 'ssri', 'ssri', 'ssri', 'ssri', 'ssri', 'ssri', 'ssri', 'ssri', 'ssri', 'ssri', 'ssri', 'ssri', 'ssri', 'ssri', 'ssri', 'ssri', 'ssri', 'ssri', 'ssri', 'ssri', 'ssri', 'ssri', 'ssri', 'ssri', 'ssri', 'ssri', 'ssri', 'ssri', 'ssri', 'ssri', 'ssri', 'ssri', 'ssri', 'ssri', 'ssri', 'ssri', 'ssri', 'ssri', 'ssri', 'ssri', 'ssri', 'ssri', 'ssri', 'ssri', 'ssri', 'ssri', 'ssri', 'ssri', 'ssri', 'ssri', 'ssri', 'ssri', 'ssri', 'ssri', 'ssri', 'ssri', 'ssri', 'ssri', 'ssri', 'ssri', 'ssri', 'ssri', 'ssri', 'ssri', 'ssri', 'ssri', 'ssri', 'ssri', 'ssri', 'ssri', 'ssri', 'ssri', 'ssri', 'ssri', 'ssri', 'ssri', 'ssri', 'ssri', 'ssri', 'ssri', 'ssri', 'ssri', 'ssri', 'ssri', 'ssri', 'ssri', 'ssri', 'ssri', 'ssri', 'ssri', 'ssri', 'ssri', 'ssri', 'ssri', 'ssri', 'ssri', 'ssri', 'ssri', 'ssri', 'ssri', 'ssri', 'ssri', 'ssri', 'ssri', 'ssri'])\n"
     ]
    }
   ],
   "source": [
    "# MENAMPILKAN DATA SSRI\n",
    "\n",
    "print(get_data(\n",
    "    folder_path = ssri_dataset, \n",
    "    file_names = ssri_filenames, \n",
    "    y_data='ssri'\n",
    "))"
   ]
  },
  {
   "cell_type": "code",
   "execution_count": 12,
   "id": "a7644232",
   "metadata": {},
   "outputs": [
    {
     "name": "stdout",
     "output_type": "stream",
     "text": [
      "(['Apo - Aripiprazole 20 mg Tablet ( Schizophrenia , Tourette Disorder , Mayor Depressive Disorder , Bipolar Disorder , Depression )', 'aripiprazole 20 mg tablet ( schizophrenia , tourette disorder , mayor depressive disorder , bipolar disorder , depression )\\n', 'latuda seventy 4 mg tablet ( schizophrenia , bipolar disorder , depression )', 'latuda 19 mg tablet ( schizophrenia , bipolar disorder , depression )', 'latuda 80 mg tablet ( schizophrenia , bipolar disorder , depression )', 'latuda 120 mg tablet ( schizophrenia , bipolar disorder , depression )', 'latuda 37 mg tablet ( schizophrenia , bipolar disorder , depression )', 'latuda 74 mg tablet ( schizophrenia , bipolar disorder , depression )', 'latuda 60 mg tablet ( schizophrenia , bipolar disorder , depression )', 'haldol 5 mg injection ( schizophrenia , tourette disorder , obsessive compulsive disorder )', 'haldol decanoate 50 mg injection ( schizophrenia , tourette disorder , obsessive compulsive disorder )', 'haldol decanoate 100 mg injection ( schizophrenia , tourette disorder , obsessive compulsive disorder )', 'arpiprazole 15 mg tablet ( schizophrenia , tourette disorder , mayor depressive disorder , bipolar disorder , depression )', 'haldol la 5 mg injection ( schizophrenia , tourette disorder , obsessive compulsive disorder )', 'haldol la injection 100 mg liquid ( schizophrenia , tourette disorder , obsessive compulsive disorder )', 'haloperidol decanoate 100 mg liquid ( schizophrenia , tourette disorder , obsessive compulsive disorder )', 'haloperidol decanoate 50 mg liquid ( schizophrenia , tourette disorder , obsessive compulsive disorder )', 'haloperidol decanoate 100 mg injection ( schizophrenia , tourette disorder , obsessive compulsive disorder )', 'haloperidol decanoate 50 mg injection ( schizophrenia , tourette disorder , obsessive compulsive disorder )', 'haloperidol injection 5 mg liquid ( schizophrenia , tourette disorder , obsessive compulsive disorder )', 'haloperidol la 50 mg liquid ( schizophrenia , tourette disorder , obsessive compulsive disorder )', 'haloperidol la 100 mg liquid ( schizophrenia , tourette disorder , obsessive compulsive disorder )', 'haloperidol tab 1 mg tablet ( schizophrenia , tourette disorder , obsessive compulsive disorder )', 'aripiprazole 10 mg tablet ( schizophrenia , tourette disorder , mayor depressive disorder , bipolar disorder , depression )', 'haloperidol tab 2 mg tablet ( schizophrenia , tourette disorder , obsessive compulsive disorder )', 'haloperidol - la omega 100 mg liquid ( schizophrenia , tourette disorder , obsessive compulsive disorder )', 'haloperidol - la omega 50 mg liquid ( schizophrenia , tourette disorder , obsessive compulsive disorder )', 'latuda 40 mg tablet ( schizophrenia , bipolar disorder , depression )', 'latuda 37 mg tablet ( schizophrenia , bipolar disorder , depression )', 'latuda 80 mg tablet ( schizophrenia , bipolar disorder , depression )', 'latuda 70 four mg tablet ( schizophrenia , bipolar disorder , depression )', 'latuda 20 mg tablet ( schizophrenia , bipolar disorder , depression )', 'latuda 19 mg tablet ( schizophrenia , bipolar disorder , depression )', 'latuda 60 mg tablet ( schizophrenia , bipolar disorder , depression )', 'auro - aripiprazole 20 mg tablet ( schizophrenia , tourette disorder , mayor depressive disorder , bipolar disorder , depression )', 'latuda 120 mg tablet ( schizophrenia , bipolar disorder , depression )', 'geodon 20 mg capsule ( schizophrenia , mayor depressive disorder , bipolar disorder , depression )', 'geodon 80 mg capsule ( schizophrenia , mayor depressive disorder , bipolar disorder , depression )', 'geodon 20 mg injection ( schizophrenia , mayor depressive disorder , bipolar disorder , depression )', 'geodon 20 mg capsule ( schizophrenia , mayor depressive disorder , bipolar disorder , depression )', 'geodon 60 mg capsule ( schizophrenia , mayor depressive disorder , bipolar disorder , depression )', 'zeldox 60 mg capsule ( schizophrenia , mayor depressive disorder , bipolar disorder , depression )', 'zeldox 80 mg capsule ( schizophrenia , mayor depressive disorder , bipolar disorder , depression )', 'zeldox 40 mg capsule ( schizophrenia , mayor depressive disorder , bipolar disorder , depression )', 'zeldox 20 mg capsule ( schizophrenia , mayor depressive disorder , bipolar disorder , depression )', 'auro - aripiprazole 2 mg tablet ( schizophrenia , tourette disorder , mayor depressive disorder , bipolar disorder , depression )', 'ziprasidone 60 mg capsule ( schizophrenia , mayor depressive disorder , bipolar disorder , depression )', 'ziprasidone 40 mg capsule ( schizophrenia , mayor depressive disorder , bipolar disorder , depression )', 'ziprasidone 20 mg capsule ( schizophrenia , mayor depressive disorder , bipolar disorder , depression )', 'ziprasidone 80 mg capsule ( schizophrenia , mayor depressive disorder , bipolar disorder , depression )', 'auro - ziprasidone 40 mg capsule ( schizophrenia , mayor depressive disorder , bipolar disorder , depression )', 'auro - ziprasidone 80 mg capsule ( schizophrenia , mayor depressive disorder , bipolar disorder , depression )', 'auro - ziprasidone 20 mg capsule ( schizophrenia , mayor depressive disorder , bipolar disorder , depression )', 'auro - ziprasidone 80 mg capsule ( schizophrenia , mayor depressive disorder , bipolar disorder , depression )', 'gd - ziprasidone 80 mg capsule ( schizophrenia , mayor depressive disorder , bipolar disorder , depression )', 'gd - ziprasidone 20 mg capsule ( schizophrenia , mayor depressive disorder , bipolar disorder , depression )', 'auro - aripiprazole 15 mg tablet ( schizophrenia , tourette disorder , mayor depressive disorder , bipolar disorder , depression )', 'gd - ziprasidone 60 mg capsule ( schizophrenia , mayor depressive disorder , bipolar disorder , depression )', 'gd - ziprasidone 40 mg capsule ( schizophrenia , mayor depressive disorder , bipolar disorder , depression )', 'mylan - ziprasidone 60 mg capsule ( schizophrenia , mayor depressive disorder , bipolar disorder , depression )', 'mylan - ziprasidone 40 mg capsule ( schizophrenia , mayor depressive disorder , bipolar disorder , depression )', 'mylan - ziprasidone 60 mg capsule ( schizophrenia , mayor depressive disorder , bipolar disorder , depression )', 'ziprasidone hydrochloride 20 mg capsule ( schizophrenia , mayor depressive disorder , bipolar disorder , depression )', 'ziprasidone hydrochloride 60 mg capsule ( schizophrenia , mayor depressive disorder , bipolar disorder , depression )', 'ziprasidone hydrochloride 40 mg capsule ( schizophrenia , mayor depressive disorder , bipolar disorder , depression )', 'ziprasidone hydrochloride 80 mg capsule ( schizophrenia , mayor depressive disorder , bipolar disorder , depression )', 'ziprasidone mesylate 20 mg injection ( schizophrenia , mayor depressive disorder , bipolar disorder , depression )', 'auro - aripiprazole 10 mg tablet ( schizophrenia , tourette disorder , mayor depressive disorder , bipolar disorder , depression )', 'fanapt 1 mg tablet ( schizophrenia )', 'fanapt 12 mg tablet ( schizophrenia )', 'fanapt 2 mg tablet ( schizophrenia )', 'fanapt 8 mg tablet ( schizophrenia )', 'fanapt 4 mg tablet ( schizophrenia )', 'fanapt 6 mg tablet ( schizophrenia )', 'fanapt 10 mg tablet ( schizophrenia )', 'invega 12 mg tablet ( schizophrenia )', 'invega 6 mg tablet ( schizophrenia )', 'invega 2 mg tablet ( schizophrenia )', 'auro - aripiprazole 30 mg tablet ( schizophrenia , tourette disorder , mayor depressive disorder , bipolar disorder , depression )', 'invega 3 mg tablet ( schizophrenia )', 'invega 9 mg tablet ( schizophrenia )', 'xeplion 75 mg injection ( schizophrenia )', 'xeplion 100 mg injection ( schizophrenia )', 'xeplion 25 mg injection ( schizophrenia )', 'xeplion 150 mg injection ( schizophrenia )', 'paliperidone palmitate 39 mg injection ( schizophrenia )', 'paliperidone palmitate 156 mg injection ( schizophrenia )', 'paliperidone palmitate 117 mg injection ( schizophrenia )', 'paliperidone palmitate seventy 8 mg injection ( schizophrenia )', 'auro - aripiprazole 5 mg tablet ( schizophrenia , tourette disorder , mayor depressive disorder , bipolar disorder , depression )', 'paliperidone palmitate 234 mg injection ( schizophrenia )', 'paliperidone 2 mg tablet ( schizophrenia )', 'paliperidone 3 mg tablet ( schizophrenia )', 'paliperidone 9 mg tablet ( schizophrenia )', 'paliperidone 6 mg tablet ( schizophrenia )', 'invega trinza 525 mg injection ( schizophrenia )', 'invega trinza 175 mg injection ( schizophrenia )', 'invega trinza 819 mg injection ( schizophrenia )', 'invega trinza 546 mg injection ( schizophrenia )', 'invega trinza 263 mg injection ( schizophrenia )', 'mint - aripiprazole 5 mg tablet ( schizophrenia , tourette disorder , mayor depressive disorder , bipolar disorder , depression )', 'invega trinza 273 mg injection ( schizophrenia )', 'invega sustenna 78 mg injection ( schizophrenia )', 'invega sustenna 170 mg injection ( schizophrenia )', 'invega sustenna 156 mg injection ( schizophrenia )', 'invega sustenna 39 mg injection ( schizophrenia )', 'invega sustenna 234 mg injection ( schizophrenia )', 'invega hafyera 1060 mg injection ( schizophrenia )', 'invega hafyera 1092 mg injection ( schizophrenia )', 'saphris 5 mg tablet ( schizophrenia , bipolar disorder )', 'saphris 10 mg tablet ( schizophrenia , bipolar disorder )', 'Apo - Aripipazole 20 mg Tablet ( Schizophrenia , Tourette Disorder , Mayor Depressive Disorder , Bipolar Disorder , Depression )\\n', 'mint - aripiprazole 10 mg tablet ( schizophrenia , tourette disorder , mayor depressive disorder , bipolar disorder , depression )', 'saphirs 3 mg tablet ( schizophrenia , bipolar disorder )', 'sycrest 5 mg tablet ( schizophrenia , bipolar disorder )', 'sycrest 10 mg tablet ( schizophrenia , bipolar disorder )', 'reagila 6 mg capsule ( schizophrenia , bipolar disorder , depression )\\n', 'reagila 3 mg tablet ( schizophrenia , bipolar disorder )', 'reagila 2 mg tablet ( schizophrenia , bipolar disorder )', 'reagila 5 mg tablet ( schizophrenia , bipolar disorder )', 'vraylar 6 mg tablet ( schizophrenia , bipolar disorder )', 'vraylar 6 mg tablet ( schizophrenia , bipolar disorder )', 'vraylar 5 mg tablet ( schizophrenia , bipolar disorder )', 'mint - aripripazole 30 mg tablet ( schizophrenia , tourette disorder , mayor depressive disorder , bipolar disorder , depression )', 'vraylar 3 mg tablet ( schizophrenia , bipolar disorder )', 'vraylar 2 mg tablet ( schizophrenia , bipolar disorder )', 'Auro - Lurasidone Tablet 20 mg ( Schizophrenia , Mayor Depressive Disorder , Bipolar , Depressive )', 'Auro - Lurasidone Tablet 40 mg ( Schizophrenia , Mayor Depressive Disorder , Bipolar , Depressive )', 'Auro - Lurasidone Tablet 20 mg ( Schizophrenia , Mayor Depressive Disorder , Bipolar , Depressive )', 'Auro - Lurasidone Tablet 60 mg ( Schizophrenia , Mayor Depressive Disorder , Bipolar , Depressive )', 'Auro - Lurasidone Tablet 80 mg ( Schizophrenia , Mayor Depressive Disorder , Bipolar , Depressive )', 'Auro - Lurasidone Tablet 80 mg ( Schizophrenia , Mayor Depressive Disorder , Bipolar , Depressive )', 'Auro - Lurasidone Tablet 100 mg ( Schizophrenia , Mayor Depressive Disorder , Bipolar , Depressive )', 'Jamp - Lurasidone Tablet 20 mg ( Schizophrenia , Mayor Depressive Disorder , Bipolar , Depressive )', 'abilify 10 mg tablet ( schizophrenia , tourette disorder , mayor depressive disorder , bipolar disorder , depression )', 'Jamp - Lurasidone Tablet 40 mg ( Schizophrenia , Mayor Depressive Disorder , Bipolar , Depressive )', 'Jamp - Lurasidone Tablet 60 mg ( Schizophrenia , Mayor Depressive Disorder , Bipolar , Depressive )', 'Jamp - Lurasidone Tablet 60 mg ( Schizophrenia , Mayor Depressive Disorder , Bipolar , Depressive )', 'Jamp - Lurasidone Tablet 80 mg ( Schizophrenia , Mayor Depressive Disorder , Bipolar , Depressive )', 'Jamp - Lurasidone Tablet 120 mg ( Schizophrenia , Mayor Depressive Disorder , Bipolar , Depressive )', 'Auro - Lurasidone Tablet 100 mg ( Schizophrenia , Mayor Depressive Disorder , Bipolar , Depressive )', 'Lurasidone Hydrochloride Tablet 20 mg ( Schizophrenia , Mayor Depressive Disorder , Bipolar , Depressive )', 'Lurasidone Hydrochloride Tablet 40 mg ( Schizophrenia , Mayor Depressive Disorder , Bipolar , Depressive )', 'Lurasidone Hydrochloride Tablet 60 mg ( Schizophrenia , Mayor Depressive Disorder , Bipolar , Depressive )', 'Lurasidone Hydrochloride Tablet 80 mg ( Schizophrenia , Mayor Depressive Disorder , Bipolar , Depressive )', 'abilify 30 mg tablet ( schizophrenia , tourette disorder , mayor depressive disorder , bipolar disorder , depression )', 'Lurasidone Hydrochloride Tablet 120 mg ( Schizophrenia , Mayor Depressive Disorder , Bipolar , Depressive )', 'PMS - Lurasidone Tablet 20 mg ( Schizophrenia , Mayor Depressive Disorder , Bipolar , Depressive )', 'PMS - Lurasidone Tablet 40 mg ( Schizophrenia , Mayor Depressive Disorder , Bipolar , Depressive )', 'PMS - Lurasidone Tablet 60 mg ( Schizophrenia , Mayor Depressive Disorder , Bipolar , Depressive )', 'PMS - Lurasidone Tablet 80 mg ( Schizophrenia , Mayor Depressive Disorder , Bipolar , Depressive )', 'PMS - Lurasidone Tablet 120 mg ( Schizophrenia , Mayor Depressive Disorder , Bipolar , Depressive )', 'Sandoz Lurasidone Tablet 20 mg ( Schizophrenia , Mayor Depressive Disorder , Bipolar , Depressive )', 'Sandoz Lurasidone Tablet 20 mg ( Schizophrenia , Mayor Depressive Disorder , Bipolar , Depressive )', 'Sandoz Lurasidone Tablet 40 mg ( Schizophrenia , Mayor Depressive Disorder , Bipolar , Depressive )', 'Sandoz Lurasidone Tablet 60 mg ( Schizophrenia , Mayor Depressive Disorder , Bipolar , Depressive )', 'abilify 15 mg tablet ( schizophrenia , tourette disorder , mayor depressive disorder , bipolar disorder , depression )', 'Sandoz Lurasidone Tablet 80 mg ( Schizophrenia , Mayor Depressive Disorder , Bipolar , Depressive )', 'Sandoz Lurasidone Tablet 120 mg ( Schizophrenia , Mayor Depressive Disorder , Bipolar , Depressive )', 'Taro - Lurasidone Tablet 40 mg ( Schizophrenia , Mayor Depressive Disorder , Bipolar , Depressive )', 'Taro - Lurasidone Tablet 60 mg ( Schizophrenia , Mayor Depressive Disorder , Bipolar , Depressive )', 'Taro - Lurasidone Tablet 80 mg ( Schizophrenia , Mayor Depressive Disorder , Bipolar , Depressive )', 'Taro - Lurasidone Tablet 80 mg ( Schizophrenia , Mayor Depressive Disorder , Bipolar , Depressive )', 'Taro - Lurasidone Tablet 120 mg ( Schizophrenia , Mayor Depressive Disorder , Bipolar , Depressive )', 'Asenapine Tablet 5 mg ( Schizophrenia , Mayor Depressive Disorder , Bipolar Disorder , Depressive )', 'Asenapine Tablet 10 mg ( Schizophrenia , Mayor Depressive Disorder , Bipolar Disorder , Depressive )', 'Loxapac Tablet 5 mg ( Schizophrenia )', 'atipikal 20 mg tablet ( schizophrenia , tourette disorder , mayor depressive disorder , bipolar disorder , depression )', 'Loxapac Tablet 10 mg ( Schizophrenia )', 'Loxapac Tablet 25 mg ( Schizophrenia )', 'Loxapac Tablet 50 mg ( Schizophrenia )', 'Loxapine Tablet 5 mg ( Schizophrenia )', 'Loxapine Tablet 10 mg ( Schizophrenia )', 'Loxapine Tablet 25 mg ( Schizophrenia )', 'Loxapine Succinate Tablet 5 mg ( Schizophrenia )', 'Loxapine Succinate Tablet 10 mg ( Schizophrenia )', 'Loxapine Succinate Tablet 10 mg ( Schizophrenia )', 'Loxapine Succinate Tablet 25 mg ( Schizophrenia )', 'curexol 5 mg tablet ( schizophrenia , tourette disorder , mayor depressive disorder , bipolar disorder , depression )', 'Loxapine Succinate Tablet 50 mg ( Schizophrenia )', 'Xylac Tablet 5 mg ( Schizophrenia )', 'Xylac Tablet 10 mg ( Schizophrenia )', 'Xylac Tablet 25 mg ( Schizophrenia )', 'Xylac Tablet 50 mg ( Schizophrenia )', 'Apo - Loxapine Tablet 5 mg ( Schizophrenia )', 'Apo - Loxapine Tablet 10 mg ( Schizophrenia )', 'Apo - Loxapine Tablet 25 mg ( Schizophrenia )', 'Apo - Loxapine Tablet 50 mg ( Schizophrenia )', 'Dom - Loxapine Tablet 5 mg ( Schizophrenia )', 'bbott - olanzapine odt 15 mg tablet ( schizophrenia , mayor depressive disorder , bipolar disorder , depression )', 'Dom - Loxapine Tablet 10 mg ( Schizophrenia )', 'Dom - Loxapine Tablet 25 mg ( Schizophrenia )', 'Dom - Loxapine Tablet 50 mg ( Schizophrenia )', 'Loxapine Capsule 5 mg ( Schizophrenia )', 'Loxapine Capsule 10 mg ( Schizophrenia )', 'Loxapine Capsule 25 mg ( Schizophrenia )', 'Loxapine Capsule 50 mg ( Schizophrenia )', 'Loxitane Capsule 5 mg ( Schizophrenia )', 'Loxitane Capsule 10 mg ( Schizophrenia )', 'Loxitane Capsule 25 mg ( Schizophrenia )', 'abbott - olanzapine 10 mg tablet ( schizophrenia , mayor depressive disorder , bipolar disorder , depression )', 'Loxitane Capsule 50 mg ( Schizophrenia )', 'abbott - olanzapine 5 mg tablet ( schizophrenia , mayor depressive disorder , bipolar disorder , depression )', 'Apo - Aripipazole 30 mg Tablet ( Schizophrenia , Tourette Disorder , Mayor Depressive Disorder , Bipolar Disorder , Depression )\\n', 'accel - olanzapine 8 mg tablet ( schizophrenia , mayor depressive disorder , bipolar disorder , depression )', 'accel - olanzapine 20 mg tablet ( schizophrenia , mayor depressive disorder , bipolar disorder , depression )', 'accel - olanzapine 15 mg tablet ( schizophrenia , mayor depressive disorder , bipolar disorder , depression )', 'accel - olanzapine 10 mg tablet ( schizophrenia , mayor depressive disorder , bipolar disorder , depression )', 'accel - olanzapine 5 mg tablet ( schizophrenia , mayor depressive disorder , bipolar disorder , depression )', 'accel - olanzapine 3 mg tablet ( schizophrenia , mayor depressive disorder , bipolar disorder , depression )', 'ag - olanzapine 5 mg tablet ( schizophrenia , mayor depressive disorder , bipolar disorder , depression )', 'ag - olanzapine 15 mg tablet ( schizophrenia , mayor depressive disorder , bipolar disorder , depression )', 'ag - olanzapine 3 mg tablet ( schizophrenia , mayor depressive disorder , bipolar disorder , depression )', 'ag - olanzapine 10 mg tablet ( schizophrenia , mayor depressive disorder , bipolar disorder , depression )', 'Apo Aripiprazole 5 mg Tablet ( Schizophrenia , Tourette Disorder , Mayor Depressive Disorder , Bipolar Disorder , Depression )\\n', 'ag - olanzapine 20 mg tablet ( schizophrenia , mayor depressive disorder , bipolar disorder , depression )', 'apo - olanzapine 3 mg tablet ( schizophrenia , mayor depressive disorder , bipolar disorder , depression )', 'apo - olanzapine 5 mg tablet ( schizophrenia , mayor depressive disorder , bipolar disorder , depression )', 'apo - olanzapine eight mg tablet ( schizophrenia , mayor depressive disorder , bipolar disorder , depression )', 'apo - olanzapine 10 mg tablet ( schizophrenia , mayor depressive disorder , bipolar disorder , depression )', 'apo - olanzapine 15 mg tablet ( schizophrenia , mayor depressive disorder , bipolar disorder , depression )', 'apo - olanzapine 20 mg tablet ( schizophrenia , mayor depressive disorder , bipolar disorder , depression )', 'apo - olanzapine odt 5 mg tablet ( schizophrenia , mayor depressive disorder , bipolar disorder , depression )', 'apo - olanzapine odt 10 mg tablet ( schizophrenia , mayor depressive disorder , bipolar disorder , depression )', 'apo - olanzapine odt 15 mg tablet ( schizophrenia , mayor depressive disorder , bipolar disorder , depression )', 'Apo - Aripiprazole 2 mg Tablet ( Schizophrenia , Tourette Disorder , Mayor Depressive Disorder , Bipolar Disorder , Depression )\\n', 'apo - olanzapine odt 20 mg tablet ( schizophrenia , mayor depressive disorder , bipolar disorder , depression )', 'auro - olanzapine oft 15 mg tablet ( schizophrenia , mayor depressive disorder , bipolar disorder , depression )', 'auro - olanzapine odt 10 mg tablet ( schizophrenia , mayor depressive disorder , bipolar disorder , depression )', 'auro - olanzapine odt 20 mg tablet ( schizophrenia , mayor depressive disorder , bipolar disorder , depression )', 'auro - olanzapine odt 5 mg tablet ( schizophrenia , mayor depressive disorder , bipolar disorder , depression )', 'dom - olanzapine 3 mg tablet ( schizophrenia , mayor depressive disorder , bipolar disorder , depression )', 'dom - olanzapine 10 mg tablet ( schizophrenia , mayor depressive disorder , bipolar disorder , depression )', 'dom - olanzapine 8 mg tablet ( schizophrenia , mayor depressive disorder , bipolar disorder , depression )', 'dom - olanzapine 15 mg tablet ( schizophrenia , mayor depressive disorder , bipolar disorder , depression )', 'dom - olanzapine 5 mg tablet ( schizophrenia , mayor depressive disorder , bipolar disorder , depression )', 'apo - aripiprazole 10 mg tablet ( schizophrenia , tourette disorder , mayor depressive disorder , bipolar disorder , depression )\\n', 'ipg - olanzapine 10 mg tablet ( schizophrenia , mayor depressive disorder , bipolar disorder , depression )', 'ipg - olanzapine 3 mg tablet ( schizophrenia , mayor depressive disorder , bipolar disorder , depression )', 'ipg - olanzapine 8 mg tablet ( schizophrenia , mayor depressive disorder , bipolar disorder , depression )', 'ipg - olanzapine 20 mg tablet ( schizophrenia , mayor depressive disorder , bipolar disorder , depression )', 'jamp - olanzapine fc 10 mg tablet ( schizophrenia , mayor depressive disorder , bipolar disorder , depression )', 'jamp - olanzapine 3 mg tablet ( schizophrenia , mayor depressive disorder , bipolar disorder , depression )', 'jamp - olanzapine fc 20 mg tablet ( schizophrenia , mayor depressive disorder , bipolar disorder , depression )', 'jamp - olanzapine odt 10 mg tablet ( schizophrenia , mayor depressive disorder , bipolar disorder , depression )', 'jamp - olanzapine odt 5 mg tablet ( schizophrenia , mayor depressive disorder , bipolar disorder , depression )', 'jamp - olanzapine odt 20 mg tablet ( schizophrenia , mayor depressive disorder , bipolar disorder , depression )', 'aripiprazole 5 mg tablet ( schizophrenia , tourette disorder , mayor depressive disorder , bipolar disorder , depression )\\n', 'jamp - olanzapine 15 mg tablet ( schizophrenia , mayor depressive disorder , bipolar disorder , depression )', 'mar - olanzapine 5 mg tablet ( schizophrenia , mayor depressive disorder , bipolar disorder , depression )', 'mar - olanzapine 15 mg tablet ( schizophrenia , mayor depressive disorder , bipolar disorder , depression )', 'mar - olanzapine 20 mg tablet ( schizophrenia , mayor depressive disorder , bipolar disorder , depression )', 'mar - olanzapine 3 mg tablet ( schizophrenia , mayor depressive disorder , bipolar disorder , depression )', 'mar - olanzapine 20 mg tablet ( schizophrenia , mayor depressive disorder , bipolar disorder , depression )', 'mar - olanzapine 10 mg tablet ( schizophrenia , mayor depressive disorder , bipolar disorder , depression )', 'mar - olanzapine odt 10 mg tablet ( schizophrenia , mayor depressive disorder , bipolar disorder , depression )', 'mar - olanzapine odt 5 mg tablet ( schizophrenia , mayor depressive disorder , bipolar disorder , depression )', 'mar - olanzapine odt 20 mg tablet ( schizophrenia , mayor depressive disorder , bipolar disorder , depression )', 'aripiprazole 2 mg tablet ( schizophrenia , tourette disorder , mayor depressive disorder , bipolar disorder , depression )\\n', 'mar - olanzapine odt 15 mg tablet ( schizophrenia , mayor depressive disorder , bipolar disorder , depression )', 'mint - olanzapine 3 mg tablet ( schizophrenia , mayor depressive disorder , bipolar disorder , depression )', 'mint - olanzapine 5 mg tablet ( schizophrenia , mayor depressive disorder , bipolar disorder , depression )', 'mint - olanzapine 10 mg tablet ( schizophrenia , mayor depressive disorder , bipolar disorder , depression )', 'mint - olanzapine 8 mg tablet ( schizophrenia , mayor depressive disorder , bipolar disorder , depression )', 'mint - olanzapine odt 15 mg tablet ( schizophrenia , mayor depressive disorder , bipolar disorder , depression )', 'mint - olanzapine odt 5 mg tablet ( schizophrenia , mayor depressive disorder , bipolar disorder , depression )', 'mint - olanzapine odt 5 mg tablet ( schizophrenia , mayor depressive disorder , bipolar disorder , depression )', 'mint - olanzapine odt 20 mg tablet ( schizophrenia , mayor depressive disorder , bipolar disorder , depression )', 'mylan - olanzapine 5 mg tablet ( schizophrenia , mayor depressive disorder , bipolar disorder , depression )', 'aripiprazole 30 mg tablet ( schizophrenia , tourette disorder , mayor depressive disorder , bipolar disorder , depression )\\n', 'mylan - olanzapine 15 mg tablet ( schizophrenia , mayor depressive disorder , bipolar disorder , depression )', 'mylan - olanzapine 3 mg tablet ( schizophrenia , mayor depressive disorder , bipolar disorder , depression )', 'mylan - olanzapine 10 mg tablet ( schizophrenia , mayor depressive disorder , bipolar disorder , depression )', 'mylan - olanzapine 8 mg tablet ( schizophrenia , mayor depressive disorder , bipolar disorder , depression )', 'mylan - olanzapine odt 10 mg tablet ( schizophrenia , mayor depressive disorder , bipolar disorder , depression )', 'mylan - olanzapine odt 5 mg tablet ( schizophrenia , mayor depressive disorder , bipolar disorder , depression )', 'mylan - olanzapine odt 20 mg tablet ( schizophrenia , mayor depressive disorder , bipolar disorder , depression )', 'mylan - olanzapine odt 15 mg tablet ( schizophrenia , mayor depressive disorder , bipolar disorder , depression )', 'ntp - olanzapine 15 mg tablet ( schizophrenia , mayor depressive disorder , bipolar disorder , depression )', 'ntp - olanzapine 10 mg tablet ( schizophrenia , mayor depressive disorder , bipolar disorder , depression )'], ['atipikal', 'atipikal', 'atipikal', 'atipikal', 'atipikal', 'atipikal', 'atipikal', 'atipikal', 'atipikal', 'atipikal', 'atipikal', 'atipikal', 'atipikal', 'atipikal', 'atipikal', 'atipikal', 'atipikal', 'atipikal', 'atipikal', 'atipikal', 'atipikal', 'atipikal', 'atipikal', 'atipikal', 'atipikal', 'atipikal', 'atipikal', 'atipikal', 'atipikal', 'atipikal', 'atipikal', 'atipikal', 'atipikal', 'atipikal', 'atipikal', 'atipikal', 'atipikal', 'atipikal', 'atipikal', 'atipikal', 'atipikal', 'atipikal', 'atipikal', 'atipikal', 'atipikal', 'atipikal', 'atipikal', 'atipikal', 'atipikal', 'atipikal', 'atipikal', 'atipikal', 'atipikal', 'atipikal', 'atipikal', 'atipikal', 'atipikal', 'atipikal', 'atipikal', 'atipikal', 'atipikal', 'atipikal', 'atipikal', 'atipikal', 'atipikal', 'atipikal', 'atipikal', 'atipikal', 'atipikal', 'atipikal', 'atipikal', 'atipikal', 'atipikal', 'atipikal', 'atipikal', 'atipikal', 'atipikal', 'atipikal', 'atipikal', 'atipikal', 'atipikal', 'atipikal', 'atipikal', 'atipikal', 'atipikal', 'atipikal', 'atipikal', 'atipikal', 'atipikal', 'atipikal', 'atipikal', 'atipikal', 'atipikal', 'atipikal', 'atipikal', 'atipikal', 'atipikal', 'atipikal', 'atipikal', 'atipikal', 'atipikal', 'atipikal', 'atipikal', 'atipikal', 'atipikal', 'atipikal', 'atipikal', 'atipikal', 'atipikal', 'atipikal', 'atipikal', 'atipikal', 'atipikal', 'atipikal', 'atipikal', 'atipikal', 'atipikal', 'atipikal', 'atipikal', 'atipikal', 'atipikal', 'atipikal', 'atipikal', 'atipikal', 'atipikal', 'atipikal', 'atipikal', 'atipikal', 'atipikal', 'atipikal', 'atipikal', 'atipikal', 'atipikal', 'atipikal', 'atipikal', 'atipikal', 'atipikal', 'atipikal', 'atipikal', 'atipikal', 'atipikal', 'atipikal', 'atipikal', 'atipikal', 'atipikal', 'atipikal', 'atipikal', 'atipikal', 'atipikal', 'atipikal', 'atipikal', 'atipikal', 'atipikal', 'atipikal', 'atipikal', 'atipikal', 'atipikal', 'atipikal', 'atipikal', 'atipikal', 'atipikal', 'atipikal', 'atipikal', 'atipikal', 'atipikal', 'atipikal', 'atipikal', 'atipikal', 'atipikal', 'atipikal', 'atipikal', 'atipikal', 'atipikal', 'atipikal', 'atipikal', 'atipikal', 'atipikal', 'atipikal', 'atipikal', 'atipikal', 'atipikal', 'atipikal', 'atipikal', 'atipikal', 'atipikal', 'atipikal', 'atipikal', 'atipikal', 'atipikal', 'atipikal', 'atipikal', 'atipikal', 'atipikal', 'atipikal', 'atipikal', 'atipikal', 'atipikal', 'atipikal', 'atipikal', 'atipikal', 'atipikal', 'atipikal', 'atipikal', 'atipikal', 'atipikal', 'atipikal', 'atipikal', 'atipikal', 'atipikal', 'atipikal', 'atipikal', 'atipikal', 'atipikal', 'atipikal', 'atipikal', 'atipikal', 'atipikal', 'atipikal', 'atipikal', 'atipikal', 'atipikal', 'atipikal', 'atipikal', 'atipikal', 'atipikal', 'atipikal', 'atipikal', 'atipikal', 'atipikal', 'atipikal', 'atipikal', 'atipikal', 'atipikal', 'atipikal', 'atipikal', 'atipikal', 'atipikal', 'atipikal', 'atipikal', 'atipikal', 'atipikal', 'atipikal', 'atipikal', 'atipikal', 'atipikal', 'atipikal', 'atipikal', 'atipikal', 'atipikal', 'atipikal', 'atipikal', 'atipikal', 'atipikal', 'atipikal', 'atipikal', 'atipikal', 'atipikal', 'atipikal', 'atipikal', 'atipikal', 'atipikal', 'atipikal', 'atipikal', 'atipikal', 'atipikal', 'atipikal', 'atipikal', 'atipikal', 'atipikal', 'atipikal', 'atipikal', 'atipikal', 'atipikal', 'atipikal', 'atipikal', 'atipikal', 'atipikal', 'atipikal', 'atipikal', 'atipikal'])\n"
     ]
    }
   ],
   "source": [
    "# MENAMPILKAN DATA ATIPIKAL\n",
    "\n",
    "print(get_data(\n",
    "    folder_path = atipikal_dataset, \n",
    "    file_names = atipikal_filenames, \n",
    "    y_data='atipikal'\n",
    "))"
   ]
  },
  {
   "cell_type": "code",
   "execution_count": 13,
   "id": "246e98a1",
   "metadata": {},
   "outputs": [
    {
     "name": "stdout",
     "output_type": "stream",
     "text": [
      "SSRI data ...\n",
      "Total data fitur (x) SSRI:  275\n",
      "Total data label (y) SSRI:  275\n"
     ]
    }
   ],
   "source": [
    "# MENGHTIUNG TOTAL DATA SSRI\n",
    "\n",
    "print(\"SSRI data ...\")\n",
    "print(\"Total data fitur (x) SSRI: \",len(ssri_x)) \n",
    "print(\"Total data label (y) SSRI: \",len(ssri_y))"
   ]
  },
  {
   "cell_type": "code",
   "execution_count": 14,
   "id": "9538a046",
   "metadata": {},
   "outputs": [
    {
     "name": "stdout",
     "output_type": "stream",
     "text": [
      "Atipikal data ...\n",
      "Total data fitur (x) Atipikal:  280\n",
      "Total data label (y) Atipikal:  280\n"
     ]
    }
   ],
   "source": [
    "# MENGHTIUNG TOTAL DATA ATIPIKAL\n",
    "\n",
    "print(\"Atipikal data ...\")\n",
    "print(\"Total data fitur (x) Atipikal: \",len(atipikal_x))\n",
    "print(\"Total data label (y) Atipikal: \",len(atipikal_y))"
   ]
  },
  {
   "cell_type": "code",
   "execution_count": 15,
   "id": "99a0aa7b",
   "metadata": {},
   "outputs": [
    {
     "name": "stdout",
     "output_type": "stream",
     "text": [
      "Total data fitur  (x):  555\n",
      "Total data target (y):  555\n"
     ]
    }
   ],
   "source": [
    "# MENGHITUNG KESELURUHAN DATA\n",
    "\n",
    "print(\"Total data fitur  (x): \",len(x))\n",
    "print(\"Total data target (y): \",len(y))"
   ]
  },
  {
   "cell_type": "code",
   "execution_count": 16,
   "id": "d678f43a",
   "metadata": {},
   "outputs": [
    {
     "name": "stdout",
     "output_type": "stream",
     "text": [
      "Tipe data variabel X adalah  <class 'list'>\n",
      "Tipe data variabel y adalah  <class 'list'>\n"
     ]
    }
   ],
   "source": [
    "# MENGETAHUI JENIS TIPE DATA\n",
    "\n",
    "print(\"Tipe data variabel X adalah \", type(x))\n",
    "print(\"Tipe data variabel y adalah \", type(y))"
   ]
  },
  {
   "cell_type": "markdown",
   "id": "022f3a95",
   "metadata": {},
   "source": [
    "Function subplots() merupakan function yang digunakan untuk membuat gambar (fig) dan sumbu (ax).\n",
    "Library yang dibutuhkan untuk memanggil function tersebut berupa matplolib.pyplot.\n",
    "\n",
    "Argumen yang dibutuhkan untuk membuat plot batang (bar) diantaranya x_labels yg mewakili sumbu x, bar_height yg mewakili sumbu y, dan bar_colors yg mewakili warna batang."
   ]
  },
  {
   "cell_type": "code",
   "execution_count": 17,
   "id": "3384f7d7",
   "metadata": {},
   "outputs": [
    {
     "data": {
      "image/png": "[encoded data removed]",
      "text/plain": [
       "<Figure size 640x480 with 1 Axes>"
      ]
     },
     "metadata": {},
     "output_type": "display_data"
    }
   ],
   "source": [
    "# VISUALISASI JUMLAH DATA SSRI DAN ATIPIKAL\n",
    "\n",
    "# inisiasi variabel\n",
    "total_ssriX = len(ssri_x) \n",
    "total_ssriY = len(ssri_y)\n",
    "total_atipikalX = len(atipikal_x)\n",
    "total_atipikalY = len(atipikal_y)\n",
    "\n",
    "fig, ax = plt.subplots() \n",
    "\n",
    "var_x = ['ssri_x', 'ssri_y', 'atipikal_x', 'atipikal_y'] # Variabel yg mewakili label sumbu x pd plot \n",
    "var_y = [total_ssriX, total_ssriY, total_atipikalX, total_atipikalY] # Variabel yg mewakili label sumbu y pd plot\n",
    "bar_colors = ['tab:pink', 'tab:grey', 'tab:pink', 'tab:grey'] # Variabel yg menyimpan warna pd setiap plot batang\n",
    "\n",
    "ax.bar(var_x, var_y, color = bar_colors) # Membuat plot batang dg argumen untuk sumbu x, sumbu y, dan warna\n",
    "\n",
    "ax.set_ylabel('Jumlah Data') # Membuat nama label dari sumbu y\n",
    "ax.set_xlabel('Variabel') # Membuat nama label dari sumbu x\n",
    "ax.set_title('Visualisasi Data SSRI dan Atipikal') # Membuat judul plot batang\n",
    "\n",
    "plt.show() # Menampilkan hasil plot"
   ]
  },
  {
   "cell_type": "code",
   "execution_count": 18,
   "id": "65307c27",
   "metadata": {},
   "outputs": [
    {
     "data": {
      "image/png": "[encoded data removed]",
      "text/plain": [
       "<Figure size 600x600 with 1 Axes>"
      ]
     },
     "metadata": {},
     "output_type": "display_data"
    }
   ],
   "source": [
    "# VISUALISASI JUMLAH DATA ATIPIKAL DAN SSRI DALAM BENTUK D IAGRAM LINGKARAN\n",
    "\n",
    "total_ssriX = len(ssri_x) \n",
    "total_ssriY = len(ssri_y)\n",
    "total_atipikalX = len(atipikal_x)\n",
    "total_atipikalY = len(atipikal_y)\n",
    "\n",
    "count = [total_ssriX, total_ssriY, total_atipikalX, total_atipikalY]\n",
    "label = ['SSRI (x)', 'SSRI (y)', 'ATIPIKAL (x)', 'ATIPIKAL (y)']\n",
    "color = sns.color_palette(['tab:grey', 'tab:pink', 'tab:grey', 'tab:pink'])[0:4]\n",
    "explode = (0.05, 0, 0.05, 0)\n",
    "\n",
    "plt.figure(figsize=(6,6))\n",
    "plt.pie(count, labels = label, colors= color, autopct='%1.0f%%', explode = explode)\n",
    "\n",
    "plt.show()"
   ]
  },
  {
   "cell_type": "markdown",
   "id": "1fb5d34c",
   "metadata": {},
   "source": [
    "### DATASET PREPROCESSING"
   ]
  },
  {
   "cell_type": "markdown",
   "id": "62020ea7",
   "metadata": {},
   "source": [
    "Alasan memilih Label Encoder karena tidak perlu menambahkan data dummy seperti one hot encoding sehingga pada saat dilatih nantinya tidak banyak data bernilai kosong."
   ]
  },
  {
   "cell_type": "code",
   "execution_count": 19,
   "id": "9aeb9cd8",
   "metadata": {},
   "outputs": [
    {
     "name": "stdout",
     "output_type": "stream",
     "text": [
      "============================= KETERANGAN DATA ============================\n",
      "Atipikal : 0\n",
      "SSRI     : 1\n",
      "==========================================================================\n",
      "Setelah diencoding ...\n",
      "[1 1 1 1 1 1 1 1 1 1 1 1 1 1 1 1 1 1 1 1 1 1 1 1 1 1 1 1 1 1 1 1 1 1 1 1 1\n",
      " 1 1 1 1 1 1 1 1 1 1 1 1 1 1 1 1 1 1 1 1 1 1 1 1 1 1 1 1 1 1 1 1 1 1 1 1 1\n",
      " 1 1 1 1 1 1 1 1 1 1 1 1 1 1 1 1 1 1 1 1 1 1 1 1 1 1 1 1 1 1 1 1 1 1 1 1 1\n",
      " 1 1 1 1 1 1 1 1 1 1 1 1 1 1 1 1 1 1 1 1 1 1 1 1 1 1 1 1 1 1 1 1 1 1 1 1 1\n",
      " 1 1 1 1 1 1 1 1 1 1 1 1 1 1 1 1 1 1 1 1 1 1 1 1 1 1 1 1 1 1 1 1 1 1 1 1 1\n",
      " 1 1 1 1 1 1 1 1 1 1 1 1 1 1 1 1 1 1 1 1 1 1 1 1 1 1 1 1 1 1 1 1 1 1 1 1 1\n",
      " 1 1 1 1 1 1 1 1 1 1 1 1 1 1 1 1 1 1 1 1 1 1 1 1 1 1 1 1 1 1 1 1 1 1 1 1 1\n",
      " 1 1 1 1 1 1 1 1 1 1 1 1 1 1 1 1 0 0 0 0 0 0 0 0 0 0 0 0 0 0 0 0 0 0 0 0 0\n",
      " 0 0 0 0 0 0 0 0 0 0 0 0 0 0 0 0 0 0 0 0 0 0 0 0 0 0 0 0 0 0 0 0 0 0 0 0 0\n",
      " 0 0 0 0 0 0 0 0 0 0 0 0 0 0 0 0 0 0 0 0 0 0 0 0 0 0 0 0 0 0 0 0 0 0 0 0 0\n",
      " 0 0 0 0 0 0 0 0 0 0 0 0 0 0 0 0 0 0 0 0 0 0 0 0 0 0 0 0 0 0 0 0 0 0 0 0 0\n",
      " 0 0 0 0 0 0 0 0 0 0 0 0 0 0 0 0 0 0 0 0 0 0 0 0 0 0 0 0 0 0 0 0 0 0 0 0 0\n",
      " 0 0 0 0 0 0 0 0 0 0 0 0 0 0 0 0 0 0 0 0 0 0 0 0 0 0 0 0 0 0 0 0 0 0 0 0 0\n",
      " 0 0 0 0 0 0 0 0 0 0 0 0 0 0 0 0 0 0 0 0 0 0 0 0 0 0 0 0 0 0 0 0 0 0 0 0 0\n",
      " 0 0 0 0 0 0 0 0 0 0 0 0 0 0 0 0 0 0 0 0 0 0 0 0 0 0 0 0 0 0 0 0 0 0 0 0 0]\n"
     ]
    }
   ],
   "source": [
    "# Encoding Data Variabel y\n",
    "le = LabelEncoder() # Function untuk mengubah data kategorikal menjadi numerik\n",
    "le.fit(y) # Melatih variable y\n",
    "y = le.transform(y) # Mengubah nilai variable y menjadi numerik\n",
    "\n",
    "# Menampilkan Data Variabel y\n",
    "print(\"=\"*29,\"KETERANGAN DATA\",\"=\"*28)\n",
    "print(\"Atipikal : 0\")\n",
    "print(\"SSRI     : 1\")\n",
    "print(\"=\"*74)\n",
    "print(\"Setelah diencoding ...\")\n",
    "print(y)"
   ]
  },
  {
   "cell_type": "code",
   "execution_count": 20,
   "id": "d9c96008",
   "metadata": {},
   "outputs": [],
   "source": [
    "# CLASS UNTUK MENGUBAH NILAI MENJADI HURUF KECIL\n",
    "\n",
    "class LowerText:\n",
    "    def process(self, text):\n",
    "        return text.lower() # mengembalikan nilai menjadi huruf kecil"
   ]
  },
  {
   "cell_type": "code",
   "execution_count": 21,
   "id": "308f82ee",
   "metadata": {},
   "outputs": [
    {
     "name": "stdout",
     "output_type": "stream",
     "text": [
      "=========================== SEBELUM LOWER TEXT ============================ \n",
      " Citalopram Hydrobromide 10 mg bottle ( Mayor Depressive Disorder , Bipolar Disorder , Obsessive Compulsif Disorder , Depression , Generalized Anxiety Disorder , Social Anxiety Disorder, Borderline Personality Disorder )\n",
      "\n",
      "\n",
      "\n",
      "=========================== SESUDAH LOWER TEXT ============================ \n",
      " citalopram hydrobromide 10 mg bottle ( mayor depressive disorder , bipolar disorder , obsessive compulsif disorder , depression , generalized anxiety disorder , social anxiety disorder, borderline personality disorder )\n",
      "\n",
      "\n",
      "\n"
     ]
    }
   ],
   "source": [
    "print(\"=\"*27,\"SEBELUM LOWER TEXT\",\"=\"*28,\"\\n\", x[0])\n",
    "print(\"=\"*27,\"SESUDAH LOWER TEXT\",\"=\"*28,\"\\n\", LowerText.process(x[0], text = x[0]))"
   ]
  },
  {
   "cell_type": "code",
   "execution_count": 22,
   "id": "42d5348d",
   "metadata": {},
   "outputs": [],
   "source": [
    "# CLASS UNTUK MEMISAHKAN KATA DALAM KALIMAT\n",
    "\n",
    "class VectorizeText:\n",
    "    def __init__(self):\n",
    "        pass\n",
    "    def process(self, text):\n",
    "        return text.split() # memisahkan string menggunakan delimiter koma(,)"
   ]
  },
  {
   "cell_type": "code",
   "execution_count": 23,
   "id": "d1404851",
   "metadata": {},
   "outputs": [
    {
     "name": "stdout",
     "output_type": "stream",
     "text": [
      "==================== SEBELUM TEXT DIPISAHKAN PER KATA ========================= \n",
      " Citalopram Hydrobromide 10 mg bottle ( Mayor Depressive Disorder , Bipolar Disorder , Obsessive Compulsif Disorder , Depression , Generalized Anxiety Disorder , Social Anxiety Disorder, Borderline Personality Disorder )\n",
      "\n",
      "\n",
      "\n",
      "==================== SESUDAH TEXT DIPISAHKAN PER KATA ========================= \n",
      " ['Citalopram', 'Hydrobromide', '10', 'mg', 'bottle', '(', 'Mayor', 'Depressive', 'Disorder', ',', 'Bipolar', 'Disorder', ',', 'Obsessive', 'Compulsif', 'Disorder', ',', 'Depression', ',', 'Generalized', 'Anxiety', 'Disorder', ',', 'Social', 'Anxiety', 'Disorder,', 'Borderline', 'Personality', 'Disorder', ')']\n"
     ]
    }
   ],
   "source": [
    "# Exploratory Data\n",
    "\n",
    "print(\"=\"*20,\"SEBELUM TEXT DIPISAHKAN PER KATA\",\"=\"*25,\"\\n\", x[0])\n",
    "print(\"=\"*20,\"SESUDAH TEXT DIPISAHKAN PER KATA\",\"=\"*25,\"\\n\", VectorizeText.process(x[0], text = x[0]))"
   ]
  },
  {
   "cell_type": "code",
   "execution_count": 24,
   "id": "8d827e29",
   "metadata": {},
   "outputs": [],
   "source": [
    "# CLASS UNTUK MENYARING TANDA BACA\n",
    "\n",
    "class FilterPunctuation:\n",
    "    def process(self, text):\n",
    "        reg_exp = re.compile(\"[%s]\"%re.escape(string.punctuation))\n",
    "        text = [reg_exp.sub(\"\", word) for word in text] \n",
    "        return text\n",
    "    \n",
    "# re.compile : mengkompilasi string menjadi objek pola ekspresi reguler\n",
    "# re.escape  : melepaskan karakter khusus yang ada pada string.punctuation\n",
    "# .sub()     : mencari dan mengganti karakter tanda baca apa pun dalam string dengan string kosong"
   ]
  },
  {
   "cell_type": "code",
   "execution_count": 25,
   "id": "efb1461b",
   "metadata": {},
   "outputs": [
    {
     "name": "stdout",
     "output_type": "stream",
     "text": [
      "==================== SEBELUM PENYARINGAN TANDA BACA ========================= \n",
      " Citalopram Hydrobromide 10 mg bottle ( Mayor Depressive Disorder , Bipolar Disorder , Obsessive Compulsif Disorder , Depression , Generalized Anxiety Disorder , Social Anxiety Disorder, Borderline Personality Disorder )\n",
      "\n",
      "\n",
      "\n",
      "==================== SETELAH PENYARINGAN TANDA BACA ========================= \n",
      " ['C', 'i', 't', 'a', 'l', 'o', 'p', 'r', 'a', 'm', ' ', 'H', 'y', 'd', 'r', 'o', 'b', 'r', 'o', 'm', 'i', 'd', 'e', ' ', '1', '0', ' ', 'm', 'g', ' ', 'b', 'o', 't', 't', 'l', 'e', ' ', '', ' ', 'M', 'a', 'y', 'o', 'r', ' ', 'D', 'e', 'p', 'r', 'e', 's', 's', 'i', 'v', 'e', ' ', 'D', 'i', 's', 'o', 'r', 'd', 'e', 'r', ' ', '', ' ', 'B', 'i', 'p', 'o', 'l', 'a', 'r', ' ', 'D', 'i', 's', 'o', 'r', 'd', 'e', 'r', ' ', '', ' ', 'O', 'b', 's', 'e', 's', 's', 'i', 'v', 'e', ' ', 'C', 'o', 'm', 'p', 'u', 'l', 's', 'i', 'f', ' ', 'D', 'i', 's', 'o', 'r', 'd', 'e', 'r', ' ', '', ' ', 'D', 'e', 'p', 'r', 'e', 's', 's', 'i', 'o', 'n', ' ', '', ' ', 'G', 'e', 'n', 'e', 'r', 'a', 'l', 'i', 'z', 'e', 'd', ' ', 'A', 'n', 'x', 'i', 'e', 't', 'y', ' ', 'D', 'i', 's', 'o', 'r', 'd', 'e', 'r', ' ', '', ' ', 'S', 'o', 'c', 'i', 'a', 'l', ' ', 'A', 'n', 'x', 'i', 'e', 't', 'y', ' ', 'D', 'i', 's', 'o', 'r', 'd', 'e', 'r', '', ' ', 'B', 'o', 'r', 'd', 'e', 'r', 'l', 'i', 'n', 'e', ' ', 'P', 'e', 'r', 's', 'o', 'n', 'a', 'l', 'i', 't', 'y', ' ', 'D', 'i', 's', 'o', 'r', 'd', 'e', 'r', ' ', '', '\\n', '\\n', '\\n']\n"
     ]
    }
   ],
   "source": [
    "print(\"=\"*20,\"SEBELUM PENYARINGAN TANDA BACA\",\"=\"*25,\"\\n\", x[0])\n",
    "print(\"=\"*20,\"SETELAH PENYARINGAN TANDA BACA\",\"=\"*25,\"\\n\", FilterPunctuation.process(x[0], text = x[0]))"
   ]
  },
  {
   "cell_type": "code",
   "execution_count": 26,
   "id": "289d44e3",
   "metadata": {},
   "outputs": [],
   "source": [
    "# CLASS UNTUK MENYARING NON ALPHABET\n",
    "\n",
    "class FilterNonAlpha:\n",
    "    def process(self, text):\n",
    "        text = [word for word in text if word.isalpha()] # membuat daftar string baru yg hanya terdiri abjad\n",
    "        return text"
   ]
  },
  {
   "cell_type": "code",
   "execution_count": 27,
   "id": "bb27f148",
   "metadata": {},
   "outputs": [
    {
     "name": "stdout",
     "output_type": "stream",
     "text": [
      "==================== SEBELUM PENYARINGAN NON ALPHABET ========================= \n",
      " Citalopram Hydrobromide 10 mg bottle ( Mayor Depressive Disorder , Bipolar Disorder , Obsessive Compulsif Disorder , Depression , Generalized Anxiety Disorder , Social Anxiety Disorder, Borderline Personality Disorder )\n",
      "\n",
      "\n",
      "\n",
      "\n",
      "\n",
      "==================== SESUDAH PENYARINGAN NON ALPHABET ========================= \n",
      " ['C', 'i', 't', 'a', 'l', 'o', 'p', 'r', 'a', 'm', 'H', 'y', 'd', 'r', 'o', 'b', 'r', 'o', 'm', 'i', 'd', 'e', 'm', 'g', 'b', 'o', 't', 't', 'l', 'e', 'M', 'a', 'y', 'o', 'r', 'D', 'e', 'p', 'r', 'e', 's', 's', 'i', 'v', 'e', 'D', 'i', 's', 'o', 'r', 'd', 'e', 'r', 'B', 'i', 'p', 'o', 'l', 'a', 'r', 'D', 'i', 's', 'o', 'r', 'd', 'e', 'r', 'O', 'b', 's', 'e', 's', 's', 'i', 'v', 'e', 'C', 'o', 'm', 'p', 'u', 'l', 's', 'i', 'f', 'D', 'i', 's', 'o', 'r', 'd', 'e', 'r', 'D', 'e', 'p', 'r', 'e', 's', 's', 'i', 'o', 'n', 'G', 'e', 'n', 'e', 'r', 'a', 'l', 'i', 'z', 'e', 'd', 'A', 'n', 'x', 'i', 'e', 't', 'y', 'D', 'i', 's', 'o', 'r', 'd', 'e', 'r', 'S', 'o', 'c', 'i', 'a', 'l', 'A', 'n', 'x', 'i', 'e', 't', 'y', 'D', 'i', 's', 'o', 'r', 'd', 'e', 'r', 'B', 'o', 'r', 'd', 'e', 'r', 'l', 'i', 'n', 'e', 'P', 'e', 'r', 's', 'o', 'n', 'a', 'l', 'i', 't', 'y', 'D', 'i', 's', 'o', 'r', 'd', 'e', 'r']\n"
     ]
    }
   ],
   "source": [
    "print(\"=\"*20,\"SEBELUM PENYARINGAN NON ALPHABET\",\"=\"*25,\"\\n\", x[0])\n",
    "print(\"\\n\")\n",
    "print(\"=\"*20,\"SESUDAH PENYARINGAN NON ALPHABET\",\"=\"*25,\"\\n\", FilterNonAlpha.process(x[0], text = x[0]))"
   ]
  },
  {
   "cell_type": "code",
   "execution_count": 28,
   "id": "81ff0a67",
   "metadata": {},
   "outputs": [],
   "source": [
    "# CLASS UNTUK TEXT PREPROCESSING\n",
    "\n",
    "# Class untuk menggabungkan seluruh tahapan preprocessing\n",
    "class TempProcess:\n",
    "    def __init__(self, process_list):\n",
    "        self.process_list = process_list # daftar text preprocessing yang disatukan\n",
    "    def process(self, text):\n",
    "        for process in self.process_list:\n",
    "            text = process.process(text) # memproses seluruh list text preprocessing yg disimpan dalam satu variabel\n",
    "        return text"
   ]
  },
  {
   "cell_type": "code",
   "execution_count": 29,
   "id": "09e652d1",
   "metadata": {},
   "outputs": [],
   "source": [
    "# MENGGABUNGKAN SELURUH TEXT PREPROCESSING MENJADI SATU\n",
    "\n",
    "lowerText = LowerText()\n",
    "vecText = VectorizeText()\n",
    "filterPunct = FilterPunctuation()\n",
    "filterNona = FilterNonAlpha()\n",
    "\n",
    "TextPreprocessing = [lowerText,\n",
    "                     vecText,\n",
    "                     filterPunct,\n",
    "                     filterNona\n",
    "                    ]\n",
    "\n",
    "TextPreprocessingResult = TempProcess(process_list = TextPreprocessing)"
   ]
  },
  {
   "cell_type": "code",
   "execution_count": 30,
   "id": "f4d9353c",
   "metadata": {},
   "outputs": [
    {
     "name": "stdout",
     "output_type": "stream",
     "text": [
      "Contoh data yang telah dilakukan text preprocessing ... \n",
      " ['citalopram', 'hydrobromide', 'mg', 'bottle', 'mayor', 'depressive', 'disorder', 'bipolar', 'disorder', 'obsessive', 'compulsif', 'disorder', 'depression', 'generalized', 'anxiety', 'disorder', 'social', 'anxiety', 'disorder', 'borderline', 'personality', 'disorder']\n"
     ]
    }
   ],
   "source": [
    "textPreprocessing_ = TextPreprocessingResult.process(x[0])\n",
    "print(\"Contoh data yang telah dilakukan text preprocessing ... \\n\", textPreprocessing_)"
   ]
  },
  {
   "cell_type": "code",
   "execution_count": 31,
   "id": "dd0be30b",
   "metadata": {},
   "outputs": [],
   "source": [
    "# Memproses data satu per satu \n",
    "def process_text(texts, textProcess):\n",
    "    process_texts=list()\n",
    "    for text in texts:\n",
    "        process_text = textProcess.process(text)\n",
    "        process_texts.append(process_text)\n",
    "    return process_texts"
   ]
  },
  {
   "cell_type": "code",
   "execution_count": 32,
   "id": "40e645d1",
   "metadata": {},
   "outputs": [
    {
     "name": "stdout",
     "output_type": "stream",
     "text": [
      "Membagi dataset ke dalam data latih dan data uji ...\n",
      "Panjang ukuran data latih (x) : 388\n",
      "Panjang ukuran data latih (y) : 388\n",
      "Panjang ukuran data uji   (x) : 167\n",
      "Panjang ukuran data uji   (y) : 167\n"
     ]
    }
   ],
   "source": [
    "# TRAIN / TEST SPLIT\n",
    "\n",
    "X_train, X_test, y_train, y_test = train_test_split(\n",
    "    x,\n",
    "    y,\n",
    "    test_size = 0.3,\n",
    "    stratify = y,\n",
    "    random_state = 24)\n",
    "\n",
    "print(\"Membagi dataset ke dalam data latih dan data uji ...\")\n",
    "print(\"Panjang ukuran data latih (x) :\",len(X_train))\n",
    "print(\"Panjang ukuran data latih (y) :\",len(y_train))\n",
    "print(\"Panjang ukuran data uji   (x) :\",len(X_test))\n",
    "print(\"Panjang ukuran data uji   (y) :\",len(y_test))"
   ]
  },
  {
   "cell_type": "code",
   "execution_count": 33,
   "id": "a437a942",
   "metadata": {},
   "outputs": [
    {
     "data": {
      "image/png": "[encoded data removed]",
      "text/plain": [
       "<Figure size 640x480 with 1 Axes>"
      ]
     },
     "metadata": {},
     "output_type": "display_data"
    }
   ],
   "source": [
    "# Visualisasi data latih dan data uji\n",
    "\n",
    "total_xTrain = len(X_train)\n",
    "total_yTrain = len(y_train)\n",
    "total_xTest = len(X_test)\n",
    "total_yTest = len(y_test)\n",
    "\n",
    "fig, ax = plt.subplots() \n",
    "\n",
    "var_x = ['X_train', 'y_train', 'X_test', 'y_test']\n",
    "counts = [total_xTrain, total_yTrain, total_xTest, total_yTest]\n",
    "bar_colors = ['tab:pink', 'tab:grey', 'tab:pink', 'tab:grey']\n",
    "\n",
    "ax.bar(var_x, counts, color = bar_colors)\n",
    "\n",
    "ax.set_ylabel('jumlah data')\n",
    "ax.set_title('Visualisasi Data Latih dan Data Uji')\n",
    "\n",
    "plt.show()"
   ]
  },
  {
   "cell_type": "code",
   "execution_count": 34,
   "id": "d4f57426",
   "metadata": {},
   "outputs": [
    {
     "name": "stdout",
     "output_type": "stream",
     "text": [
      "X_train processed...\n"
     ]
    }
   ],
   "source": [
    "X_train_process = process_text(texts = X_train, textProcess = TextPreprocessingResult)\n",
    "print(\"X_train processed...\")"
   ]
  },
  {
   "cell_type": "code",
   "execution_count": 35,
   "id": "0fbac49a",
   "metadata": {},
   "outputs": [
    {
     "name": "stdout",
     "output_type": "stream",
     "text": [
      "X_test processed...\n"
     ]
    }
   ],
   "source": [
    "X_test_process = process_text(texts = X_test, textProcess = TextPreprocessingResult)\n",
    "print(\"X_test processed...\")"
   ]
  },
  {
   "cell_type": "markdown",
   "id": "c564f1c4",
   "metadata": {},
   "source": [
    "Function Tokenizer() membutuhkan library berupa keras.preprocessing.text pada modul Tokenizer\n",
    "\n",
    "Function fit_on_texts adalah proses menyesuaikan token pada teks dengan cara membangun kosakata (yang telah dipisahkan pada proses Tokenizer) kemudian menentukan frekuensi dari setiap token.\n",
    "\n",
    "Function texts_to_sequences adalah proses mengubah teks menjadi bilangan bulat. Bilangan bulat yang digunakan adalah bilangan frekuensi yang telah ditentukan pada saat fit_on_texts.\n",
    "\n",
    "Function pad_sequences adalah proses menambahkan angka nol sesuai jumlah yang kurang pada kalimat supaya seluruh teks memiliki jumlah bilangan yang sama pada setiap kalimatnya. Pad_sequences memiliki 3 argumen diantaranya data yang ingin ditambahkan nol, ukuran maksimal data supaya jumlah nolnya bisa menyesuaikan, dan padding untuk meletakkan nol. \n",
    "\n",
    "Padding pada pad_sequences terbagi menjadi dua jenis diantaranya pre yaitu untuk meletakkan nol di awal dan post untuk meletakkan nol di akhir."
   ]
  },
  {
   "cell_type": "code",
   "execution_count": 36,
   "id": "478251c0",
   "metadata": {},
   "outputs": [],
   "source": [
    "def tokenizer(texts):\n",
    "    tokenizer = Tokenizer() # memisahkan teks untuk diubah menjadi token\n",
    "    tokenizer.fit_on_texts(texts) # proses menyesuaikan token pada teks\n",
    "    return tokenizer"
   ]
  },
  {
   "cell_type": "code",
   "execution_count": 37,
   "id": "673d001b",
   "metadata": {},
   "outputs": [],
   "source": [
    "def encode_text(tokenizer, max_length, texts):\n",
    "    encoded = tokenizer.texts_to_sequences(texts) # mengubah teks menjadi bilangan bulat\n",
    "    padded = pad_sequences(encoded, maxlen = max_length, padding = \"post\") # menambahkan angka nol di akhir data encode\n",
    "    return padded"
   ]
  },
  {
   "cell_type": "code",
   "execution_count": 38,
   "id": "f3827225",
   "metadata": {},
   "outputs": [
    {
     "name": "stdout",
     "output_type": "stream",
     "text": [
      "Vocabulary size: 172\n"
     ]
    }
   ],
   "source": [
    "tokenizer = tokenizer(texts = X_train) # melakukan proses tokenizer\n",
    "vocab_size = len(tokenizer.word_index) + 1 # menghitung keseluruhan kata unik yang dijadikan tokenisasi\n",
    "print(\"Vocabulary size:\", vocab_size)"
   ]
  },
  {
   "cell_type": "markdown",
   "id": "8638af57",
   "metadata": {},
   "source": [
    "Proses perhitungan max_length adalah dengan cara memisahkan setiap baris dengan menggunakan spasi putih kemudian dari keseluruhan data latih dicari ukuran data terpanjang dan disimpan pada variabel max_length."
   ]
  },
  {
   "cell_type": "code",
   "execution_count": 39,
   "id": "3eaf65d6",
   "metadata": {},
   "outputs": [
    {
     "name": "stdout",
     "output_type": "stream",
     "text": [
      "Maximum length: 32\n"
     ]
    }
   ],
   "source": [
    "max_length = max([len(row.split()) for row in X_train]) # menghitung ukuran data terpanjang\n",
    "print(\"Maximum length:\", max_length)"
   ]
  },
  {
   "cell_type": "code",
   "execution_count": 40,
   "id": "f97f9104",
   "metadata": {},
   "outputs": [],
   "source": [
    "X_train_encoded = encode_text(tokenizer, max_length, X_train_process) # proses mengkodekan data latih\n",
    "X_test_encoded = encode_text(tokenizer, max_length, X_test_process) # proses mengkodekan data uji"
   ]
  },
  {
   "cell_type": "code",
   "execution_count": 41,
   "id": "6e89c0ca",
   "metadata": {},
   "outputs": [
    {
     "name": "stdout",
     "output_type": "stream",
     "text": [
      "X_train encoded...\n",
      "X_test encoded...\n"
     ]
    }
   ],
   "source": [
    "print(\"X_train encoded...\")\n",
    "print(\"X_test encoded...\")"
   ]
  },
  {
   "cell_type": "code",
   "execution_count": 42,
   "id": "01f403ce",
   "metadata": {},
   "outputs": [
    {
     "name": "stdout",
     "output_type": "stream",
     "text": [
      "========================== SEBELUM DATA DI ENCODE ========================== \n",
      " ['pexeva', 'mg', 'tablet', 'mayor', 'depressive', 'disorder', 'panic', 'disorder', 'obsessive', 'compulsive', 'disorder', 'generalized', 'anxiety', 'disorder', 'social', 'anxiety', 'disorder']\n",
      "\n",
      "\n",
      "========================== SETELAH DATA DI ENCODE ========================== \n",
      " [94  2  6  4  3  1 13  1  9 11  1 14  5  1 12  5  1  0  0  0  0  0  0  0\n",
      "  0  0  0  0  0  0  0  0]\n"
     ]
    }
   ],
   "source": [
    "print(\"=\"*26,\"SEBELUM DATA DI ENCODE\",\"=\"*26,\"\\n\", TextPreprocessingResult.process(X_train[0]))\n",
    "print(\"\\n\")\n",
    "print(\"=\"*26,\"SETELAH DATA DI ENCODE\",\"=\"*26,\"\\n\",X_train_encoded[0])"
   ]
  },
  {
   "cell_type": "markdown",
   "id": "e5a832b2",
   "metadata": {},
   "source": [
    "### PELATIHAN MODEL "
   ]
  },
  {
   "cell_type": "code",
   "execution_count": 43,
   "id": "8319815a",
   "metadata": {},
   "outputs": [],
   "source": [
    "def create_model(vocab_size, max_length):\n",
    "    model = models.Sequential()\n",
    "    model.add(layers.Embedding(vocab_size, 100, input_length=max_length))\n",
    "    model.add(layers.Conv1D(filters = 32,kernel_size = 8, activation=\"relu\"))\n",
    "    model.add(layers.MaxPooling1D(2))\n",
    "    model.add(layers.Flatten())\n",
    "    model.add(layers.Dense(16, activation=\"relu\"))\n",
    "    model.add(layers.Dense(1,  activation=\"sigmoid\"))\n",
    "    return model"
   ]
  },
  {
   "cell_type": "code",
   "execution_count": 44,
   "id": "99daf386",
   "metadata": {
    "scrolled": true
   },
   "outputs": [
    {
     "name": "stdout",
     "output_type": "stream",
     "text": [
      "Model: \"sequential\"\n",
      "_________________________________________________________________\n",
      " Layer (type)                Output Shape              Param #   \n",
      "=================================================================\n",
      " embedding (Embedding)       (None, 32, 100)           17200     \n",
      "                                                                 \n",
      " conv1d (Conv1D)             (None, 25, 32)            25632     \n",
      "                                                                 \n",
      " max_pooling1d (MaxPooling1D  (None, 12, 32)           0         \n",
      " )                                                               \n",
      "                                                                 \n",
      " flatten (Flatten)           (None, 384)               0         \n",
      "                                                                 \n",
      " dense (Dense)               (None, 16)                6160      \n",
      "                                                                 \n",
      " dense_1 (Dense)             (None, 1)                 17        \n",
      "                                                                 \n",
      "=================================================================\n",
      "Total params: 49,009\n",
      "Trainable params: 49,009\n",
      "Non-trainable params: 0\n",
      "_________________________________________________________________\n"
     ]
    }
   ],
   "source": [
    "embedding_model = create_model(vocab_size=vocab_size, max_length=max_length)\n",
    "embedding_model.summary() # menggambarkan model yang telah dibangun"
   ]
  },
  {
   "cell_type": "markdown",
   "id": "ca89e72f",
   "metadata": {},
   "source": [
    "Loss merupakan parameter yang digunakan untuk menghitung kerugian ketika melatih model. Loss yang digunakan berupa binary_crossentropy karena digunakan untuk menghitung kerugian pada klasifikasi biner sedangkan category_crossentropy digunakan untuk menghitung kerugian pada klasifikasi multi class.\n",
    "\n",
    "Optimizer merupakan algoritma pengoptimalan yang digunakan untuk memperbarui bobot model selama pelatihan. Pemilihan algoritma adam karena algoritma ini sangat populer dan cocok digunakan untuk deep learning.\n",
    "\n",
    "Metrics merupakan daftar matriks yang digunakan untuk mengevaluasi performa model. Metrics yang digunakan berupa akurasi yakni mengukur rasio prediksi benar terhadap jumlah total prediksi pada model."
   ]
  },
  {
   "cell_type": "code",
   "execution_count": 45,
   "id": "0ef36313",
   "metadata": {},
   "outputs": [],
   "source": [
    "embedding_model.compile(loss=\"binary_crossentropy\", optimizer=\"adam\", metrics=[\"accuracy\"])"
   ]
  },
  {
   "cell_type": "code",
   "execution_count": 46,
   "id": "3ca8cc09",
   "metadata": {},
   "outputs": [
    {
     "name": "stdout",
     "output_type": "stream",
     "text": [
      "Epoch 1/100\n",
      "25/25 [==============================] - 4s 42ms/step - loss: 0.5247 - accuracy: 0.8196 - val_loss: 0.3678 - val_accuracy: 0.9102\n",
      "Epoch 2/100\n",
      "25/25 [==============================] - 0s 14ms/step - loss: 0.2263 - accuracy: 0.9639 - val_loss: 0.0989 - val_accuracy: 0.9940\n",
      "Epoch 3/100\n",
      "25/25 [==============================] - 0s 13ms/step - loss: 0.0588 - accuracy: 0.9923 - val_loss: 0.0260 - val_accuracy: 0.9940\n",
      "Model trained...\n"
     ]
    }
   ],
   "source": [
    "# menghentikan proses training apabila tidak ada peningkatan val_accuracy setelah satu epoch\n",
    "earlyStopping = EarlyStopping(monitor=\"val_accuracy\", patience=1)\n",
    "\n",
    "modelHistory = embedding_model.fit(X_train_encoded, \n",
    "                                   y_train, \n",
    "                                   batch_size = 16, \n",
    "                                   validation_data = (X_test_encoded, y_test),\n",
    "                                   epochs = 100, \n",
    "                                   callbacks=[earlyStopping])\n",
    "print(\"Model trained...\")"
   ]
  },
  {
   "cell_type": "markdown",
   "id": "babd65a6",
   "metadata": {},
   "source": [
    "### AKURASI"
   ]
  },
  {
   "cell_type": "markdown",
   "id": "ff0968c6",
   "metadata": {},
   "source": [
    "Function evaluate() digunakan untuk mengevaluasi keakuratan model. Function ini akan mengembalikan dua nilai yang disimpan pada variabel _ dan acc. Variabel _ digunakan untuk menyimpan nilai loss dan variabel acc digunakan untuk menyimpan akurasi.\n",
    "\n",
    "Verbose diatur ke-0 yang berarti tidak ada keluaran yang dicetak selama evaluasi"
   ]
  },
  {
   "cell_type": "code",
   "execution_count": 47,
   "id": "2cd5f30a",
   "metadata": {},
   "outputs": [],
   "source": [
    "_, acc = embedding_model.evaluate(X_train_encoded, y_train, verbose=0)\n",
    "_,acc= embedding_model.evaluate(X_test_encoded, y_test, verbose=0)"
   ]
  },
  {
   "cell_type": "code",
   "execution_count": 48,
   "id": "5efbfdfe",
   "metadata": {},
   "outputs": [
    {
     "name": "stdout",
     "output_type": "stream",
     "text": [
      "Train accuracy:99.40\n",
      "Test accuracy:99.40\n"
     ]
    }
   ],
   "source": [
    "print(\"Train accuracy:{:.2f}\".format(acc*100))\n",
    "print(\"Test accuracy:{:.2f}\".format(acc*100))"
   ]
  },
  {
   "cell_type": "code",
   "execution_count": 49,
   "id": "8df3482a",
   "metadata": {},
   "outputs": [
    {
     "name": "stdout",
     "output_type": "stream",
     "text": [
      "Test Accuracy : 99.40119760479041 %\n",
      "\n",
      "\n",
      "              precision    recall  f1-score   support\n",
      "\n",
      "        SSRI       0.99      1.00      0.99        84\n",
      "    Atipikal       1.00      0.99      0.99        83\n",
      "\n",
      "    accuracy                           0.99       167\n",
      "   macro avg       0.99      0.99      0.99       167\n",
      "weighted avg       0.99      0.99      0.99       167\n",
      "\n",
      "\n",
      "Confusion Matrix : \n",
      "[[84  0]\n",
      " [ 1 82]]\n"
     ]
    }
   ],
   "source": [
    "target_classes = [\"SSRI\", \"Atipikal\"]\n",
    "predictY = embedding_model.predict(X_test_encoded, verbose=0)\n",
    "print(\"Test Accuracy : {}\".format(accuracy_score(y_test, predictY.round())*100),\"%\")\n",
    "\n",
    "print(\"\\n\")\n",
    "print(classification_report(\n",
    "    y_test, \n",
    "    predictY.round(), \n",
    "    target_names = target_classes)\n",
    "     )\n",
    "print(\"\\nConfusion Matrix : \")\n",
    "print(confusion_matrix(y_test, predictY.round()))"
   ]
  },
  {
   "cell_type": "code",
   "execution_count": 50,
   "id": "72ae86e1",
   "metadata": {},
   "outputs": [
    {
     "data": {
      "image/png": "[encoded data removed]",
      "text/plain": [
       "<Figure size 500x500 with 2 Axes>"
      ]
     },
     "metadata": {},
     "output_type": "display_data"
    }
   ],
   "source": [
    "f, ax = plt.subplots(figsize=(5,5))\n",
    "sns.heatmap(\n",
    "    confusion_matrix(y_test, predictY.round()), \n",
    "    annot=True, \n",
    "    fmt=\".0f\", \n",
    "    ax=ax, \n",
    "    cmap=\"Blues\"\n",
    ")\n",
    "plt.xlabel(\"Predicted Label\")\n",
    "plt.ylabel(\"True Label\")\n",
    "plt.show()"
   ]
  },
  {
   "cell_type": "markdown",
   "id": "01894783",
   "metadata": {},
   "source": [
    "### VISUALISASI MODEL"
   ]
  },
  {
   "cell_type": "code",
   "execution_count": 51,
   "id": "66e84191",
   "metadata": {},
   "outputs": [
    {
     "data": {
      "image/png": "[encoded data removed]",
      "text/plain": [
       "<Figure size 1000x400 with 1 Axes>"
      ]
     },
     "metadata": {},
     "output_type": "display_data"
    },
    {
     "data": {
      "image/png": "[encoded data removed]",
      "text/plain": [
       "<Figure size 1000x400 with 1 Axes>"
      ]
     },
     "metadata": {},
     "output_type": "display_data"
    }
   ],
   "source": [
    "# Membuat plot akurasi model CNN\n",
    "plt.figure(figsize=(10,4))\n",
    "plt.plot(modelHistory.history['accuracy'])\n",
    "plt.plot(modelHistory.history['val_accuracy'])\n",
    "plt.title('Akurasi (batch size 16 dan epoch 100)')\n",
    "plt.ylabel('accuracy')\n",
    "plt.xlabel('epoch')\n",
    "plt.legend(['train', 'test'], loc='upper left')\n",
    "plt.grid(True)\n",
    "plt.show()\n",
    "\n",
    "# Membuat plot loss model CNN\n",
    "plt.figure(figsize=(10,4))\n",
    "plt.plot(modelHistory.history['loss'])\n",
    "plt.plot(modelHistory.history['val_loss'])\n",
    "plt.title('Loss (batch size 16 dan epoch 100)')\n",
    "plt.ylabel('loss')\n",
    "plt.xlabel('epoch')\n",
    "plt.legend(['train', 'test'], loc='upper left')\n",
    "plt.grid(True)\n",
    "plt.show()"
   ]
  },
  {
   "cell_type": "markdown",
   "id": "fd9ed00b",
   "metadata": {},
   "source": [
    "### CLASSIFICATION DATA TEST"
   ]
  },
  {
   "cell_type": "code",
   "execution_count": 52,
   "id": "97446041",
   "metadata": {},
   "outputs": [
    {
     "name": "stdout",
     "output_type": "stream",
     "text": [
      "6/6 [==============================] - 0s 6ms/step\n",
      "[[0.9644393 ]\n",
      " [0.00120399]\n",
      " [0.9891219 ]\n",
      " [0.01043123]\n",
      " [0.98913664]\n",
      " [0.96860677]\n",
      " [0.98914766]\n",
      " [0.01054993]\n",
      " [0.9890554 ]\n",
      " [0.00224736]\n",
      " [0.01099932]\n",
      " [0.00122666]\n",
      " [0.01173327]\n",
      " [0.01736802]\n",
      " [0.95850873]\n",
      " [0.00119893]\n",
      " [0.99020714]\n",
      " [0.00122666]\n",
      " [0.9891148 ]\n",
      " [0.98565435]\n",
      " [0.01034435]\n",
      " [0.00602341]\n",
      " [0.00546699]\n",
      " [0.0173698 ]\n",
      " [0.005222  ]\n",
      " [0.0187424 ]\n",
      " [0.01147606]\n",
      " [0.00130828]\n",
      " [0.00130828]\n",
      " [0.00546699]\n",
      " [0.00144714]\n",
      " [0.0187424 ]\n",
      " [0.083459  ]\n",
      " [0.0049289 ]\n",
      " [0.9541387 ]\n",
      " [0.00125031]\n",
      " [0.00536862]\n",
      " [0.98651785]\n",
      " [0.01147606]\n",
      " [0.9644393 ]\n",
      " [0.98913443]\n",
      " [0.00124122]\n",
      " [0.98342764]\n",
      " [0.00144714]\n",
      " [0.01673028]\n",
      " [0.990578  ]\n",
      " [0.9902857 ]\n",
      " [0.00139811]\n",
      " [0.9862508 ]\n",
      " [0.9589477 ]\n",
      " [0.0012542 ]\n",
      " [0.0089175 ]\n",
      " [0.01173327]\n",
      " [0.9644393 ]\n",
      " [0.9644393 ]\n",
      " [0.0089175 ]\n",
      " [0.0049289 ]\n",
      " [0.99030405]\n",
      " [0.00198923]\n",
      " [0.9905632 ]\n",
      " [0.07785967]\n",
      " [0.0014051 ]\n",
      " [0.00488965]\n",
      " [0.07785962]\n",
      " [0.0187424 ]\n",
      " [0.0089175 ]\n",
      " [0.00491358]\n",
      " [0.00130828]\n",
      " [0.0187424 ]\n",
      " [0.98830676]\n",
      " [0.96190065]\n",
      " [0.9541387 ]\n",
      " [0.98656553]\n",
      " [0.00542886]\n",
      " [0.9834619 ]\n",
      " [0.98586744]\n",
      " [0.9890569 ]\n",
      " [0.9905718 ]\n",
      " [0.00149143]\n",
      " [0.9595501 ]\n",
      " [0.00848818]\n",
      " [0.0187424 ]\n",
      " [0.9833367 ]\n",
      " [0.0187424 ]\n",
      " [0.00125031]\n",
      " [0.00542886]\n",
      " [0.01072785]\n",
      " [0.98555386]\n",
      " [0.00491358]\n",
      " [0.98343927]\n",
      " [0.9882914 ]\n",
      " [0.0089175 ]\n",
      " [0.10644435]\n",
      " [0.98648596]\n",
      " [0.9890554 ]\n",
      " [0.0187424 ]\n",
      " [0.9859098 ]\n",
      " [0.99043894]\n",
      " [0.9890554 ]\n",
      " [0.983383  ]\n",
      " [0.00125205]\n",
      " [0.07785967]\n",
      " [0.00144714]\n",
      " [0.99013555]\n",
      " [0.9857523 ]\n",
      " [0.98202   ]\n",
      " [0.05791822]\n",
      " [0.9890569 ]\n",
      " [0.9905718 ]\n",
      " [0.98907566]\n",
      " [0.98908675]\n",
      " [0.9859572 ]\n",
      " [0.00122914]\n",
      " [0.9855984 ]\n",
      " [0.98908675]\n",
      " [0.98642766]\n",
      " [0.00130828]\n",
      " [0.0187424 ]\n",
      " [0.00848818]\n",
      " [0.6535921 ]\n",
      " [0.98566955]\n",
      " [0.00602341]\n",
      " [0.9883274 ]\n",
      " [0.98913664]\n",
      " [0.07658804]\n",
      " [0.00602341]\n",
      " [0.98581326]\n",
      " [0.01081161]\n",
      " [0.98913443]\n",
      " [0.9856613 ]\n",
      " [0.98340046]\n",
      " [0.36883458]\n",
      " [0.00542886]\n",
      " [0.00198327]\n",
      " [0.9833239 ]\n",
      " [0.9595501 ]\n",
      " [0.01147606]\n",
      " [0.0049289 ]\n",
      " [0.9644393 ]\n",
      " [0.9857523 ]\n",
      " [0.98911566]\n",
      " [0.985833  ]\n",
      " [0.00120399]\n",
      " [0.00125031]\n",
      " [0.9865892 ]\n",
      " [0.00151395]\n",
      " [0.98565435]\n",
      " [0.98582554]\n",
      " [0.0014819 ]\n",
      " [0.98914766]\n",
      " [0.97586465]\n",
      " [0.9833599 ]\n",
      " [0.98651546]\n",
      " [0.01147606]\n",
      " [0.98202   ]\n",
      " [0.9891219 ]\n",
      " [0.00121552]\n",
      " [0.98907566]\n",
      " [0.00602342]\n",
      " [0.98556006]\n",
      " [0.99020714]\n",
      " [0.9902846 ]\n",
      " [0.01096718]\n",
      " [0.00488966]\n",
      " [0.9859098 ]\n",
      " [0.6535921 ]\n",
      " [0.00126258]]\n"
     ]
    }
   ],
   "source": [
    "# Prediksi menggunakan 1D - Convnet\n",
    "predictions = embedding_model.predict(X_test_encoded.round())\n",
    "print(predictions)"
   ]
  },
  {
   "cell_type": "markdown",
   "id": "296b2f7f",
   "metadata": {},
   "source": [
    "### CLASSIFICATION DATA TEST"
   ]
  },
  {
   "cell_type": "code",
   "execution_count": 53,
   "id": "146260b7",
   "metadata": {},
   "outputs": [
    {
     "name": "stdout",
     "output_type": "stream",
     "text": [
      "1/1 [==============================] - 0s 62ms/step\n"
     ]
    }
   ],
   "source": [
    "preprocess = TextPreprocessingResult.process(X_test[70]) # preprocessing pada indeks array\n",
    "preprocess = [\" \".join(preprocess)] # menggabungkan kata - kata yang telah dipisahkan pd preprocessing \n",
    "res_preprocess = tokenizer.texts_to_sequences(preprocess) # mengubah kata menjadi numerik\n",
    "result = pad_sequences(res_preprocess, max_length, padding=\"post\") # menambahkan angka nol pd indeks array yg kosong\n",
    "res_predict = embedding_model.predict(result) # melakukan prediksi model\n",
    "\n",
    "def hasil(text):\n",
    "    if res_predict.round() < 1:\n",
    "        text = \"Atipikal\"\n",
    "    else:\n",
    "        text = \"SSRI\"\n",
    "    return text"
   ]
  },
  {
   "cell_type": "code",
   "execution_count": 54,
   "id": "8c35b550",
   "metadata": {},
   "outputs": [
    {
     "name": "stdout",
     "output_type": "stream",
     "text": [
      "======================== DATA SEBELUM DI PREPROCESSING ========================\n",
      "\n",
      " ach - floxetine 20 mg capsule ( mayor depressive disorder , panic disorder , obsessive compulsive disorder , depression )\n",
      "\n",
      "======================== DATA SETELAH DI PREPROCESSING ========================\n",
      "\n",
      " [[170   2  15   4   3   1  13   1   9  11   1   8   0   0   0   0   0   0\n",
      "    0   0   0   0   0   0   0   0   0   0   0   0   0   0]]\n",
      "\n",
      "=============================== HASIL PREDIKSI ================================\n",
      "[[1.]]  atau  SSRI\n"
     ]
    }
   ],
   "source": [
    "print(\"=\"*24,\"DATA SEBELUM DI PREPROCESSING\",\"=\"*24)\n",
    "print(\"\\n\", X_test[70])\n",
    "print(\"\")\n",
    "print(\"=\"*24,\"DATA SETELAH DI PREPROCESSING\",\"=\"*24)\n",
    "print(\"\\n\",result)\n",
    "print(\"\")\n",
    "print(\"=\"*31,\"HASIL PREDIKSI\",\"=\"*32)\n",
    "print(res_predict.round(), \" atau \", hasil(res_predict))"
   ]
  },
  {
   "cell_type": "markdown",
   "id": "227f7da1",
   "metadata": {},
   "source": [
    "### CLASSIFICATION NEW DATA"
   ]
  },
  {
   "cell_type": "code",
   "execution_count": 71,
   "id": "3d759a99",
   "metadata": {},
   "outputs": [
    {
     "name": "stdout",
     "output_type": "stream",
     "text": [
      "1/1 [==============================] - 0s 66ms/step\n"
     ]
    }
   ],
   "source": [
    "text = \"Lustral capsule 25 mg ( Binge Eating Disorder, Bulimia Nervosa, Mayor Depressive Disorder, Panic Disorder, Obsessive Compulsive Disorder, General Anxiety Disorder, Social Anxiety Disorder, Post Traumatic Stress Disorder, Premenstrual Dysphoric Disorder)\"\n",
    "preprocess_new = TextPreprocessingResult.process(text)\n",
    "preprocess_new = [\" \".join(preprocess_new)]\n",
    "res_preprocess_new = tokenizer.texts_to_sequences(preprocess_new)\n",
    "result_new = pad_sequences(res_preprocess_new, max_length, padding=\"post\")\n",
    "res_predict_new = embedding_model.predict(result_new)\n",
    "\n",
    "def hasil_new(text):\n",
    "    if res_predict_new.round() < 1:\n",
    "        text = \"Atipikal\"\n",
    "    else:\n",
    "        text = \"SSRI\"\n",
    "    return text"
   ]
  },
  {
   "cell_type": "code",
   "execution_count": 72,
   "id": "3a51d8d3",
   "metadata": {},
   "outputs": [
    {
     "name": "stdout",
     "output_type": "stream",
     "text": [
      "======================== DATA SEBELUM DI PREPROCESSING ========================\n",
      "\n",
      " Lustral capsule 25 mg ( Binge Eating Disorder, Bulimia Nervosa, Mayor Depressive Disorder, Panic Disorder, Obsessive Compulsive Disorder, General Anxiety Disorder, Social Anxiety Disorder, Post Traumatic Stress Disorder, Premenstrual Dysphoric Disorder)\n",
      "\n",
      "======================== DATA SETELAH DI PREPROCESSING ========================\n",
      "\n",
      " [[15  2  1  4  3  1 13  1  9 11  1 34  5  1 12  5  1  1  1  0  0  0  0  0\n",
      "   0  0  0  0  0  0  0  0]]\n",
      "\n",
      "=============================== HASIL PREDIKSI ================================\n",
      "[[1.]]  atau  SSRI\n"
     ]
    }
   ],
   "source": [
    "print(\"=\"*24,\"DATA SEBELUM DI PREPROCESSING\",\"=\"*24)\n",
    "print(\"\\n\", text)\n",
    "print(\"\")\n",
    "print(\"=\"*24,\"DATA SETELAH DI PREPROCESSING\",\"=\"*24)\n",
    "print(\"\\n\",result_new)\n",
    "print(\"\")\n",
    "print(\"=\"*31,\"HASIL PREDIKSI\",\"=\"*32)\n",
    "print(res_predict_new.round(), \" atau \", hasil_new(res_predict_new))"
   ]
  },
  {
   "cell_type": "code",
   "execution_count": null,
   "id": "c9bc5374",
   "metadata": {},
   "outputs": [],
   "source": []
  },
  {
   "cell_type": "code",
   "execution_count": null,
   "id": "b3873808",
   "metadata": {},
   "outputs": [],
   "source": []
  }
 ],
 "metadata": {
  "kernelspec": {
   "display_name": "Python 3 (ipykernel)",
   "language": "python",
   "name": "python3"
  },
  "language_info": {
   "codemirror_mode": {
    "name": "ipython",
    "version": 3
   },
   "file_extension": ".py",
   "mimetype": "text/x-python",
   "name": "python",
   "nbconvert_exporter": "python",
   "pygments_lexer": "ipython3",
   "version": "3.9.13"
  }
 },
 "nbformat": 4,
 "nbformat_minor": 5
}
